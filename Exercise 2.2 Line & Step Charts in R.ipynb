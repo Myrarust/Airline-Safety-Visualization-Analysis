{
 "cells": [
  {
   "cell_type": "code",
   "execution_count": 1,
   "metadata": {},
   "outputs": [
    {
     "name": "stderr",
     "output_type": "stream",
     "text": [
      "Warning message:\n",
      "\"package 'tidyverse' was built under R version 3.6.3\"-- Attaching packages --------------------------------------- tidyverse 1.3.0 --\n",
      "v ggplot2 3.3.3     v purrr   0.3.4\n",
      "v tibble  3.1.0     v dplyr   1.0.5\n",
      "v tidyr   1.1.3     v stringr 1.4.0\n",
      "v readr   1.4.0     v forcats 0.5.1\n",
      "Warning message:\n",
      "\"package 'ggplot2' was built under R version 3.6.3\"Warning message:\n",
      "\"package 'tibble' was built under R version 3.6.3\"Warning message:\n",
      "\"package 'tidyr' was built under R version 3.6.3\"Warning message:\n",
      "\"package 'readr' was built under R version 3.6.3\"Warning message:\n",
      "\"package 'purrr' was built under R version 3.6.3\"Warning message:\n",
      "\"package 'dplyr' was built under R version 3.6.3\"Warning message:\n",
      "\"package 'stringr' was built under R version 3.6.3\"Warning message:\n",
      "\"package 'forcats' was built under R version 3.6.3\"-- Conflicts ------------------------------------------ tidyverse_conflicts() --\n",
      "x dplyr::filter() masks stats::filter()\n",
      "x dplyr::lag()    masks stats::lag()\n",
      "Warning message:\n",
      "\"package 'readxl' was built under R version 3.6.3\""
     ]
    }
   ],
   "source": [
    "# Set working directory\n",
    "setwd(\"C:\\\\Users\\\\myraw\\\\Jupyter\\\\DSC640\")\n",
    "\n",
    "# Import libraries\n",
    "library(tidyverse)\n",
    "library(readxl)"
   ]
  },
  {
   "cell_type": "code",
   "execution_count": 2,
   "metadata": {
    "scrolled": true
   },
   "outputs": [
    {
     "data": {
      "text/html": [
       "<table>\n",
       "<thead><tr><th scope=col>Year</th><th scope=col>Population</th></tr></thead>\n",
       "<tbody>\n",
       "\t<tr><td>1960      </td><td>3028654024</td></tr>\n",
       "\t<tr><td>1961      </td><td>3068356747</td></tr>\n",
       "\t<tr><td>1962      </td><td>3121963107</td></tr>\n",
       "\t<tr><td>1963      </td><td>3187471383</td></tr>\n",
       "\t<tr><td>1964      </td><td>3253112403</td></tr>\n",
       "\t<tr><td>1965      </td><td>3320396924</td></tr>\n",
       "</tbody>\n",
       "</table>\n"
      ],
      "text/latex": [
       "\\begin{tabular}{r|ll}\n",
       " Year & Population\\\\\n",
       "\\hline\n",
       "\t 1960       & 3028654024\\\\\n",
       "\t 1961       & 3068356747\\\\\n",
       "\t 1962       & 3121963107\\\\\n",
       "\t 1963       & 3187471383\\\\\n",
       "\t 1964       & 3253112403\\\\\n",
       "\t 1965       & 3320396924\\\\\n",
       "\\end{tabular}\n"
      ],
      "text/markdown": [
       "\n",
       "| Year | Population |\n",
       "|---|---|\n",
       "| 1960       | 3028654024 |\n",
       "| 1961       | 3068356747 |\n",
       "| 1962       | 3121963107 |\n",
       "| 1963       | 3187471383 |\n",
       "| 1964       | 3253112403 |\n",
       "| 1965       | 3320396924 |\n",
       "\n"
      ],
      "text/plain": [
       "  Year Population\n",
       "1 1960 3028654024\n",
       "2 1961 3068356747\n",
       "3 1962 3121963107\n",
       "4 1963 3187471383\n",
       "5 1964 3253112403\n",
       "6 1965 3320396924"
      ]
     },
     "metadata": {},
     "output_type": "display_data"
    }
   ],
   "source": [
    "# take a look at the dataset\n",
    "df <- read_excel('world-population.xlsm')\n",
    "head(df)"
   ]
  },
  {
   "cell_type": "code",
   "execution_count": 5,
   "metadata": {},
   "outputs": [],
   "source": [
    "# Import ggplot2 library\n",
    "library(ggplot2)"
   ]
  },
  {
   "cell_type": "code",
   "execution_count": 34,
   "metadata": {
    "scrolled": false
   },
   "outputs": [
    {
     "data": {
      "image/png": "[encoded data removed]",
      "text/plain": [
       "plot without title"
      ]
     },
     "metadata": {},
     "output_type": "display_data"
    }
   ],
   "source": [
    "# Create line chart\n",
    "ggplot() + \n",
    "geom_line(aes(y = df$Population/1000000000, x = df$Year), color = \"blue\", size=1.2) +\n",
    "\n",
    "# Add labels\n",
    "labs(title = \"World Population\", x = \"Year\", y = \"\") +\n",
    "\n",
    "# Change y axis labels\n",
    "ylim(\"0\", \"1\", \"2\", \"3\", \"4\", \"5\", \"6\", \"7 billion people\") +\n",
    "\n",
    "# Use theme to remove vertical grid lines and background\n",
    "theme(panel.grid.major.x = element_blank(), panel.grid.major.y = element_line( size=.1, color=\"gray\" ), \n",
    "    panel.background = element_blank(), \n",
    "    axis.line.x = element_line(colour = \"black\"))"
   ]
  },
  {
   "cell_type": "code",
   "execution_count": 36,
   "metadata": {},
   "outputs": [
    {
     "data": {
      "image/png": "[encoded data removed]",
      "text/plain": [
       "plot without title"
      ]
     },
     "metadata": {},
     "output_type": "display_data"
    }
   ],
   "source": [
    "# Create step chart\n",
    "ggplot() + \n",
    "geom_step(aes(y = df$Population/1000000000, x = df$Year), color = \"blue\", size=1) +\n",
    "\n",
    "# Add labels\n",
    "labs(title = \"World Population\", x = \"Year\", y = \"\") +\n",
    "\n",
    "# Change y axis labels\n",
    "ylim(\"0\", \"1\", \"2\", \"3\", \"4\", \"5\", \"6\", \"7 billion people\") +\n",
    "\n",
    "# Use theme to remove vertical grid lines and background\n",
    "theme(panel.grid.major.x = element_blank(), panel.grid.major.y = element_line( size=.1, color=\"gray\" ), \n",
    "    panel.background = element_blank(), \n",
    "    axis.line.x = element_line(colour = \"black\"))"
   ]
  }
 ],
 "metadata": {
  "kernelspec": {
   "display_name": "R",
   "language": "R",
   "name": "ir"
  },
  "language_info": {
   "codemirror_mode": "r",
   "file_extension": ".r",
   "mimetype": "text/x-r-source",
   "name": "R",
   "pygments_lexer": "r",
   "version": "3.6.1"
  }
 },
 "nbformat": 4,
 "nbformat_minor": 4
}
