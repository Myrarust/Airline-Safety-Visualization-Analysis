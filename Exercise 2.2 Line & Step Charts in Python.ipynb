{
 "cells": [
  {
   "cell_type": "code",
   "execution_count": 8,
   "metadata": {},
   "outputs": [],
   "source": [
    "# Import libraries\n",
    "import pandas as pd\n",
    "import matplotlib.pyplot as plt\n",
    "from matplotlib import rcParams\n",
    "import numpy as np"
   ]
  },
  {
   "cell_type": "code",
   "execution_count": 2,
   "metadata": {},
   "outputs": [
    {
     "data": {
      "text/html": [
       "<div>\n",
       "<style scoped>\n",
       "    .dataframe tbody tr th:only-of-type {\n",
       "        vertical-align: middle;\n",
       "    }\n",
       "\n",
       "    .dataframe tbody tr th {\n",
       "        vertical-align: top;\n",
       "    }\n",
       "\n",
       "    .dataframe thead th {\n",
       "        text-align: right;\n",
       "    }\n",
       "</style>\n",
       "<table border=\"1\" class=\"dataframe\">\n",
       "  <thead>\n",
       "    <tr style=\"text-align: right;\">\n",
       "      <th></th>\n",
       "      <th>Year</th>\n",
       "      <th>Population</th>\n",
       "    </tr>\n",
       "  </thead>\n",
       "  <tbody>\n",
       "    <tr>\n",
       "      <th>0</th>\n",
       "      <td>1960</td>\n",
       "      <td>3028654024</td>\n",
       "    </tr>\n",
       "    <tr>\n",
       "      <th>1</th>\n",
       "      <td>1961</td>\n",
       "      <td>3068356747</td>\n",
       "    </tr>\n",
       "    <tr>\n",
       "      <th>2</th>\n",
       "      <td>1962</td>\n",
       "      <td>3121963107</td>\n",
       "    </tr>\n",
       "    <tr>\n",
       "      <th>3</th>\n",
       "      <td>1963</td>\n",
       "      <td>3187471383</td>\n",
       "    </tr>\n",
       "    <tr>\n",
       "      <th>4</th>\n",
       "      <td>1964</td>\n",
       "      <td>3253112403</td>\n",
       "    </tr>\n",
       "  </tbody>\n",
       "</table>\n",
       "</div>"
      ],
      "text/plain": [
       "   Year  Population\n",
       "0  1960  3028654024\n",
       "1  1961  3068356747\n",
       "2  1962  3121963107\n",
       "3  1963  3187471383\n",
       "4  1964  3253112403"
      ]
     },
     "execution_count": 2,
     "metadata": {},
     "output_type": "execute_result"
    }
   ],
   "source": [
    "# Take a look at the dataset\n",
    "df = pd.read_excel(\"world-population.xlsm\")\n",
    "df.head()"
   ]
  },
  {
   "cell_type": "code",
   "execution_count": 22,
   "metadata": {},
   "outputs": [
    {
     "data": {
      "text/plain": [
       "([<matplotlib.axis.YTick at 0x1a4320898b0>,\n",
       "  <matplotlib.axis.YTick at 0x1a432089100>,\n",
       "  <matplotlib.axis.YTick at 0x1a4335882b0>,\n",
       "  <matplotlib.axis.YTick at 0x1a43207a970>,\n",
       "  <matplotlib.axis.YTick at 0x1a4310ce0d0>,\n",
       "  <matplotlib.axis.YTick at 0x1a43211eaf0>,\n",
       "  <matplotlib.axis.YTick at 0x1a43207a0a0>,\n",
       "  <matplotlib.axis.YTick at 0x1a43211ed00>],\n",
       " [Text(0, 0, '0'),\n",
       "  Text(0, 0, '1'),\n",
       "  Text(0, 0, '2'),\n",
       "  Text(0, 0, '3'),\n",
       "  Text(0, 0, '4'),\n",
       "  Text(0, 0, '5'),\n",
       "  Text(0, 0, '6'),\n",
       "  Text(0, 0, '7 billion people')])"
      ]
     },
     "execution_count": 22,
     "metadata": {},
     "output_type": "execute_result"
    },
    {
     "data": {
      "image/png": "[encoded data removed]",
      "text/plain": [
       "<Figure size 432x288 with 1 Axes>"
      ]
     },
     "metadata": {
      "needs_background": "light"
     },
     "output_type": "display_data"
    }
   ],
   "source": [
    "# Create a line chart with the dataset\n",
    "fig, ax = plt.subplots()\n",
    "\n",
    "# Remove the right border\n",
    "right = ax.spines[\"right\"]\n",
    "right.set_visible(False)\n",
    "\n",
    "# Remove the top border\n",
    "top = ax.spines[\"top\"]\n",
    "top.set_visible(False)\n",
    "\n",
    "# Remove left border\n",
    "left = ax.spines[\"left\"]\n",
    "left.set_visible(False)\n",
    "\n",
    "# Add spacing under title\n",
    "rcParams['axes.titlepad'] = 20 \n",
    "\n",
    "plt.plot(df.Year, df.Population/1000000000)\n",
    "plt.title(\"World Population\", size=18, loc='left')\n",
    "plt.xlabel(\"Year\", size=14)\n",
    "plt.ylim(0, 7)\n",
    "plt.grid(axis='y')\n",
    "plt.yticks([0, 1, 2, 3, 4, 5, 6, 7], [0, 1, 2, 3, 4, 5, 6, \"7 billion people\"])"
   ]
  },
  {
   "cell_type": "code",
   "execution_count": 23,
   "metadata": {},
   "outputs": [
    {
     "data": {
      "text/plain": [
       "([<matplotlib.axis.YTick at 0x1a4323566a0>,\n",
       "  <matplotlib.axis.YTick at 0x1a432356b20>,\n",
       "  <matplotlib.axis.YTick at 0x1a4322eeac0>,\n",
       "  <matplotlib.axis.YTick at 0x1a432376880>,\n",
       "  <matplotlib.axis.YTick at 0x1a432376d00>,\n",
       "  <matplotlib.axis.YTick at 0x1a4323764f0>,\n",
       "  <matplotlib.axis.YTick at 0x1a4323769d0>,\n",
       "  <matplotlib.axis.YTick at 0x1a4323a77f0>],\n",
       " [Text(0, 0, '0'),\n",
       "  Text(0, 0, '1'),\n",
       "  Text(0, 0, '2'),\n",
       "  Text(0, 0, '3'),\n",
       "  Text(0, 0, '4'),\n",
       "  Text(0, 0, '5'),\n",
       "  Text(0, 0, '6'),\n",
       "  Text(0, 0, '7 billion people')])"
      ]
     },
     "execution_count": 23,
     "metadata": {},
     "output_type": "execute_result"
    },
    {
     "data": {
      "image/png": "[encoded data removed]",
      "text/plain": [
       "<Figure size 432x288 with 1 Axes>"
      ]
     },
     "metadata": {
      "needs_background": "light"
     },
     "output_type": "display_data"
    }
   ],
   "source": [
    "# Create a step chart with the dataset\n",
    "fig, ax = plt.subplots()\n",
    "\n",
    "# Remove the right border\n",
    "right = ax.spines[\"right\"]\n",
    "right.set_visible(False)\n",
    "\n",
    "# Remove the top border\n",
    "top = ax.spines[\"top\"]\n",
    "top.set_visible(False)\n",
    "\n",
    "# Remove left border\n",
    "left = ax.spines[\"left\"]\n",
    "left.set_visible(False)\n",
    "\n",
    "# Add spacing under title\n",
    "rcParams['axes.titlepad'] = 20 \n",
    "\n",
    "plt.step(df.Year, df.Population/1000000000, where=\"mid\")\n",
    "plt.title(\"World Population\", size=18, loc='left')\n",
    "plt.xlabel(\"Year\", size=14)\n",
    "plt.ylim(0, 7)\n",
    "plt.grid(axis='y')\n",
    "plt.yticks([0, 1, 2, 3, 4, 5, 6, 7], [0, 1, 2, 3, 4, 5, 6, \"7 billion people\"])"
   ]
  }
 ],
 "metadata": {
  "kernelspec": {
   "display_name": "Python 3",
   "language": "python",
   "name": "python3"
  },
  "language_info": {
   "codemirror_mode": {
    "name": "ipython",
    "version": 3
   },
   "file_extension": ".py",
   "mimetype": "text/x-python",
   "name": "python",
   "nbconvert_exporter": "python",
   "pygments_lexer": "ipython3",
   "version": "3.8.3"
  }
 },
 "nbformat": 4,
 "nbformat_minor": 4
}
