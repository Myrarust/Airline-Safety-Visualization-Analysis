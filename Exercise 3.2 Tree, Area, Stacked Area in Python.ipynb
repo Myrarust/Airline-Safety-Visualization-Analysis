{
 "cells": [
  {
   "cell_type": "code",
   "execution_count": 1,
   "metadata": {},
   "outputs": [],
   "source": [
    "# Import libraries\n",
    "import pandas as pd\n",
    "import matplotlib.pyplot as plt\n",
    "import numpy as np"
   ]
  },
  {
   "cell_type": "code",
   "execution_count": 5,
   "metadata": {
    "scrolled": true
   },
   "outputs": [
    {
     "data": {
      "text/html": [
       "<div>\n",
       "<style scoped>\n",
       "    .dataframe tbody tr th:only-of-type {\n",
       "        vertical-align: middle;\n",
       "    }\n",
       "\n",
       "    .dataframe tbody tr th {\n",
       "        vertical-align: top;\n",
       "    }\n",
       "\n",
       "    .dataframe thead th {\n",
       "        text-align: right;\n",
       "    }\n",
       "</style>\n",
       "<table border=\"1\" class=\"dataframe\">\n",
       "  <thead>\n",
       "    <tr style=\"text-align: right;\">\n",
       "      <th></th>\n",
       "      <th>year</th>\n",
       "      <th>category</th>\n",
       "      <th>expenditure</th>\n",
       "      <th>sex</th>\n",
       "    </tr>\n",
       "  </thead>\n",
       "  <tbody>\n",
       "    <tr>\n",
       "      <th>0</th>\n",
       "      <td>2008</td>\n",
       "      <td>Food</td>\n",
       "      <td>6443</td>\n",
       "      <td>1</td>\n",
       "    </tr>\n",
       "    <tr>\n",
       "      <th>1</th>\n",
       "      <td>2008</td>\n",
       "      <td>Alcoholic Beverages</td>\n",
       "      <td>444</td>\n",
       "      <td>1</td>\n",
       "    </tr>\n",
       "    <tr>\n",
       "      <th>2</th>\n",
       "      <td>2008</td>\n",
       "      <td>Housing</td>\n",
       "      <td>17109</td>\n",
       "      <td>1</td>\n",
       "    </tr>\n",
       "    <tr>\n",
       "      <th>3</th>\n",
       "      <td>2008</td>\n",
       "      <td>Apparel</td>\n",
       "      <td>1801</td>\n",
       "      <td>1</td>\n",
       "    </tr>\n",
       "    <tr>\n",
       "      <th>4</th>\n",
       "      <td>2008</td>\n",
       "      <td>Transportation</td>\n",
       "      <td>8604</td>\n",
       "      <td>1</td>\n",
       "    </tr>\n",
       "  </tbody>\n",
       "</table>\n",
       "</div>"
      ],
      "text/plain": [
       "   year             category  expenditure  sex\n",
       "0  2008                 Food         6443    1\n",
       "1  2008  Alcoholic Beverages          444    1\n",
       "2  2008              Housing        17109    1\n",
       "3  2008              Apparel         1801    1\n",
       "4  2008       Transportation         8604    1"
      ]
     },
     "execution_count": 5,
     "metadata": {},
     "output_type": "execute_result"
    }
   ],
   "source": [
    "# Take a look at the datasets\n",
    "df = pd.read_excel(\"expenditures.xlsx\")\n",
    "df.head()"
   ]
  },
  {
   "cell_type": "code",
   "execution_count": 3,
   "metadata": {
    "scrolled": true
   },
   "outputs": [
    {
     "data": {
      "text/html": [
       "<div>\n",
       "<style scoped>\n",
       "    .dataframe tbody tr th:only-of-type {\n",
       "        vertical-align: middle;\n",
       "    }\n",
       "\n",
       "    .dataframe tbody tr th {\n",
       "        vertical-align: top;\n",
       "    }\n",
       "\n",
       "    .dataframe thead th {\n",
       "        text-align: right;\n",
       "    }\n",
       "</style>\n",
       "<table border=\"1\" class=\"dataframe\">\n",
       "  <thead>\n",
       "    <tr style=\"text-align: right;\">\n",
       "      <th></th>\n",
       "      <th>Series id</th>\n",
       "      <th>Year</th>\n",
       "      <th>Period</th>\n",
       "      <th>Value</th>\n",
       "    </tr>\n",
       "  </thead>\n",
       "  <tbody>\n",
       "    <tr>\n",
       "      <th>0</th>\n",
       "      <td>LNS14000000</td>\n",
       "      <td>1948</td>\n",
       "      <td>M01</td>\n",
       "      <td>3.4</td>\n",
       "    </tr>\n",
       "    <tr>\n",
       "      <th>1</th>\n",
       "      <td>LNS14000000</td>\n",
       "      <td>1948</td>\n",
       "      <td>M02</td>\n",
       "      <td>3.8</td>\n",
       "    </tr>\n",
       "    <tr>\n",
       "      <th>2</th>\n",
       "      <td>LNS14000000</td>\n",
       "      <td>1948</td>\n",
       "      <td>M03</td>\n",
       "      <td>4.0</td>\n",
       "    </tr>\n",
       "    <tr>\n",
       "      <th>3</th>\n",
       "      <td>LNS14000000</td>\n",
       "      <td>1948</td>\n",
       "      <td>M04</td>\n",
       "      <td>3.9</td>\n",
       "    </tr>\n",
       "    <tr>\n",
       "      <th>4</th>\n",
       "      <td>LNS14000000</td>\n",
       "      <td>1948</td>\n",
       "      <td>M05</td>\n",
       "      <td>3.5</td>\n",
       "    </tr>\n",
       "  </tbody>\n",
       "</table>\n",
       "</div>"
      ],
      "text/plain": [
       "     Series id  Year Period  Value\n",
       "0  LNS14000000  1948    M01    3.4\n",
       "1  LNS14000000  1948    M02    3.8\n",
       "2  LNS14000000  1948    M03    4.0\n",
       "3  LNS14000000  1948    M04    3.9\n",
       "4  LNS14000000  1948    M05    3.5"
      ]
     },
     "execution_count": 3,
     "metadata": {},
     "output_type": "execute_result"
    }
   ],
   "source": [
    "# Take a look at the datasets\n",
    "df2 = pd.read_csv(\"unemployement-rate-1948-2010.csv\")\n",
    "df2.head()"
   ]
  },
  {
   "cell_type": "code",
   "execution_count": 9,
   "metadata": {},
   "outputs": [],
   "source": [
    "# Subset some data to create a treemap with\n",
    "tmap = df[df.year == 2008]\n",
    "eightYr = df[(df.year <= 2008) & (df.year >= 2000)]"
   ]
  },
  {
   "cell_type": "code",
   "execution_count": 13,
   "metadata": {},
   "outputs": [
    {
     "data": {
      "image/png": "[encoded data removed]",
      "text/plain": [
       "<Figure size 432x288 with 1 Axes>"
      ]
     },
     "metadata": {
      "needs_background": "light"
     },
     "output_type": "display_data"
    }
   ],
   "source": [
    "# Create a treemap\n",
    "import squarify\n",
    "\n",
    "squarify.plot(sizes=tmap['expenditure'], label=tmap['category'], alpha=.8 )\n",
    "plt.axis('off')\n",
    "plt.show()"
   ]
  },
  {
   "cell_type": "code",
   "execution_count": 20,
   "metadata": {},
   "outputs": [
    {
     "name": "stderr",
     "output_type": "stream",
     "text": [
      "<ipython-input-20-a20e3a4f24ee>:2: SettingWithCopyWarning: \n",
      "A value is trying to be set on a copy of a slice from a DataFrame\n",
      "\n",
      "See the caveats in the documentation: https://pandas.pydata.org/pandas-docs/stable/user_guide/indexing.html#returning-a-view-versus-a-copy\n",
      "  tmap.sort_values('expenditure', ascending=False, inplace=True)\n"
     ]
    },
    {
     "data": {
      "image/png": "[encoded data removed]",
      "text/plain": [
       "<Figure size 864x864 with 1 Axes>"
      ]
     },
     "metadata": {
      "needs_background": "light"
     },
     "output_type": "display_data"
    }
   ],
   "source": [
    "# Sort values to organize the treemap and only label the higher scoring values to declutter\n",
    "tmap.sort_values('expenditure', ascending=False, inplace=True)\n",
    "\n",
    "fig, ax = plt.subplots(1, figsize = (12,12))\n",
    "squarify.plot(sizes=tmap['expenditure'], \n",
    "              label=tmap['category'][:11], \n",
    "              alpha=.8 )\n",
    "plt.axis('off')\n",
    "plt.show()"
   ]
  },
  {
   "cell_type": "code",
   "execution_count": 53,
   "metadata": {},
   "outputs": [
    {
     "data": {
      "application/vnd.plotly.v1+json": {
       "config": {
        "plotlyServerURL": "https://plot.ly"
       },
       "data": [
        {
         "branchvalues": "total",
         "customdata": [
          [
           372
          ],
          [
           349
          ],
          [
           376
          ],
          [
           391
          ],
          [
           459
          ],
          [
           426
          ],
          [
           497
          ],
          [
           457
          ],
          [
           444
          ],
          [
           1856
          ],
          [
           1743
          ],
          [
           1749
          ],
          [
           1640
          ],
          [
           1816
          ],
          [
           1886
          ],
          [
           1874
          ],
          [
           1881
          ],
          [
           1801
          ],
          [
           1192
          ],
          [
           1258
          ],
          [
           1277
          ],
          [
           1370
          ],
          [
           1408
          ],
          [
           1663
          ],
          [
           1869
          ],
          [
           1821
          ],
          [
           1737
          ],
          [
           632
          ],
          [
           648
          ],
          [
           752
          ],
          [
           783
          ],
          [
           905
          ],
          [
           940
          ],
          [
           888
          ],
          [
           945
          ],
          [
           1046
          ],
          [
           1863
          ],
          [
           1953
          ],
          [
           2079
          ],
          [
           2060
          ],
          [
           2218
          ],
          [
           2388
          ],
          [
           2376
          ],
          [
           2698
          ],
          [
           2835
          ],
          [
           5158
          ],
          [
           5321
          ],
          [
           5375
          ],
          [
           5340
          ],
          [
           5781
          ],
          [
           5931
          ],
          [
           6111
          ],
          [
           6113
          ],
          [
           6443
          ],
          [
           2066
          ],
          [
           2182
          ],
          [
           2350
          ],
          [
           2416
          ],
          [
           2574
          ],
          [
           2664
          ],
          [
           2766
          ],
          [
           2853
          ],
          [
           2976
          ],
          [
           12319
          ],
          [
           13011
          ],
          [
           13283
          ],
          [
           13432
          ],
          [
           13918
          ],
          [
           15167
          ],
          [
           16366
          ],
          [
           16920
          ],
          [
           17109
          ],
          [
           776
          ],
          [
           750
          ],
          [
           792
          ],
          [
           606
          ],
          [
           690
          ],
          [
           808
          ],
          [
           846
          ],
          [
           808
          ],
          [
           840
          ],
          [
           564
          ],
          [
           485
          ],
          [
           526
          ],
          [
           527
          ],
          [
           581
          ],
          [
           541
          ],
          [
           585
          ],
          [
           588
          ],
          [
           616
          ],
          [
           3365
          ],
          [
           3737
          ],
          [
           3899
          ],
          [
           4055
          ],
          [
           4823
          ],
          [
           5204
          ],
          [
           5270
          ],
          [
           5336
          ],
          [
           5605
          ],
          [
           146
          ],
          [
           141
          ],
          [
           139
          ],
          [
           127
          ],
          [
           130
          ],
          [
           126
          ],
          [
           117
          ],
          [
           118
          ],
          [
           116
          ],
          [
           319
          ],
          [
           308
          ],
          [
           320
          ],
          [
           290
          ],
          [
           288
          ],
          [
           319
          ],
          [
           327
          ],
          [
           323
          ],
          [
           317
          ],
          [
           7417
          ],
          [
           7633
          ],
          [
           7759
          ],
          [
           7781
          ],
          [
           7801
          ],
          [
           8344
          ],
          [
           8508
          ],
          [
           8758
          ],
          [
           8604
          ],
          [
           6804.671336575108
          ],
          [
           7198.490371719932
          ],
          [
           7301.603107483528
          ],
          [
           7400.645058552599
          ],
          [
           7605.46059181416
          ],
          [
           8256.704053267826
          ],
          [
           8840.176074380166
          ],
          [
           9136.064390656806
          ],
          [
           9216.260868704074
          ]
         ],
         "domain": {
          "x": [
           0,
           1
          ],
          "y": [
           0,
           1
          ]
         },
         "hovertemplate": "labels=%{label}<br>expenditure_sum=%{value}<br>parent=%{parent}<br>id=%{id}<br>expenditure=%{color}<extra></extra>",
         "ids": [
          "2000/Alcoholic Beverages",
          "2001/Alcoholic Beverages",
          "2002/Alcoholic Beverages",
          "2003/Alcoholic Beverages",
          "2004/Alcoholic Beverages",
          "2005/Alcoholic Beverages",
          "2006/Alcoholic Beverages",
          "2007/Alcoholic Beverages",
          "2008/Alcoholic Beverages",
          "2000/Apparel",
          "2001/Apparel",
          "2002/Apparel",
          "2003/Apparel",
          "2004/Apparel",
          "2005/Apparel",
          "2006/Apparel",
          "2007/Apparel",
          "2008/Apparel",
          "2000/Cash Contributions",
          "2001/Cash Contributions",
          "2002/Cash Contributions",
          "2003/Cash Contributions",
          "2004/Cash Contributions",
          "2005/Cash Contributions",
          "2006/Cash Contributions",
          "2007/Cash Contributions",
          "2008/Cash Contributions",
          "2000/Education",
          "2001/Education",
          "2002/Education",
          "2003/Education",
          "2004/Education",
          "2005/Education",
          "2006/Education",
          "2007/Education",
          "2008/Education",
          "2000/Entertainment",
          "2001/Entertainment",
          "2002/Entertainment",
          "2003/Entertainment",
          "2004/Entertainment",
          "2005/Entertainment",
          "2006/Entertainment",
          "2007/Entertainment",
          "2008/Entertainment",
          "2000/Food",
          "2001/Food",
          "2002/Food",
          "2003/Food",
          "2004/Food",
          "2005/Food",
          "2006/Food",
          "2007/Food",
          "2008/Food",
          "2000/Healthcare",
          "2001/Healthcare",
          "2002/Healthcare",
          "2003/Healthcare",
          "2004/Healthcare",
          "2005/Healthcare",
          "2006/Healthcare",
          "2007/Healthcare",
          "2008/Healthcare",
          "2000/Housing",
          "2001/Housing",
          "2002/Housing",
          "2003/Housing",
          "2004/Housing",
          "2005/Housing",
          "2006/Housing",
          "2007/Housing",
          "2008/Housing",
          "2000/Miscellaneous",
          "2001/Miscellaneous",
          "2002/Miscellaneous",
          "2003/Miscellaneous",
          "2004/Miscellaneous",
          "2005/Miscellaneous",
          "2006/Miscellaneous",
          "2007/Miscellaneous",
          "2008/Miscellaneous",
          "2000/Personal Care",
          "2001/Personal Care",
          "2002/Personal Care",
          "2003/Personal Care",
          "2004/Personal Care",
          "2005/Personal Care",
          "2006/Personal Care",
          "2007/Personal Care",
          "2008/Personal Care",
          "2000/Personal Insurance",
          "2001/Personal Insurance",
          "2002/Personal Insurance",
          "2003/Personal Insurance",
          "2004/Personal Insurance",
          "2005/Personal Insurance",
          "2006/Personal Insurance",
          "2007/Personal Insurance",
          "2008/Personal Insurance",
          "2000/Reading",
          "2001/Reading",
          "2002/Reading",
          "2003/Reading",
          "2004/Reading",
          "2005/Reading",
          "2006/Reading",
          "2007/Reading",
          "2008/Reading",
          "2000/Tobacco Products",
          "2001/Tobacco Products",
          "2002/Tobacco Products",
          "2003/Tobacco Products",
          "2004/Tobacco Products",
          "2005/Tobacco Products",
          "2006/Tobacco Products",
          "2007/Tobacco Products",
          "2008/Tobacco Products",
          "2000/Transportation",
          "2001/Transportation",
          "2002/Transportation",
          "2003/Transportation",
          "2004/Transportation",
          "2005/Transportation",
          "2006/Transportation",
          "2007/Transportation",
          "2008/Transportation",
          "2000",
          "2001",
          "2002",
          "2003",
          "2004",
          "2005",
          "2006",
          "2007",
          "2008"
         ],
         "labels": [
          "Alcoholic Beverages",
          "Alcoholic Beverages",
          "Alcoholic Beverages",
          "Alcoholic Beverages",
          "Alcoholic Beverages",
          "Alcoholic Beverages",
          "Alcoholic Beverages",
          "Alcoholic Beverages",
          "Alcoholic Beverages",
          "Apparel",
          "Apparel",
          "Apparel",
          "Apparel",
          "Apparel",
          "Apparel",
          "Apparel",
          "Apparel",
          "Apparel",
          "Cash Contributions",
          "Cash Contributions",
          "Cash Contributions",
          "Cash Contributions",
          "Cash Contributions",
          "Cash Contributions",
          "Cash Contributions",
          "Cash Contributions",
          "Cash Contributions",
          "Education",
          "Education",
          "Education",
          "Education",
          "Education",
          "Education",
          "Education",
          "Education",
          "Education",
          "Entertainment",
          "Entertainment",
          "Entertainment",
          "Entertainment",
          "Entertainment",
          "Entertainment",
          "Entertainment",
          "Entertainment",
          "Entertainment",
          "Food",
          "Food",
          "Food",
          "Food",
          "Food",
          "Food",
          "Food",
          "Food",
          "Food",
          "Healthcare",
          "Healthcare",
          "Healthcare",
          "Healthcare",
          "Healthcare",
          "Healthcare",
          "Healthcare",
          "Healthcare",
          "Healthcare",
          "Housing",
          "Housing",
          "Housing",
          "Housing",
          "Housing",
          "Housing",
          "Housing",
          "Housing",
          "Housing",
          "Miscellaneous",
          "Miscellaneous",
          "Miscellaneous",
          "Miscellaneous",
          "Miscellaneous",
          "Miscellaneous",
          "Miscellaneous",
          "Miscellaneous",
          "Miscellaneous",
          "Personal Care",
          "Personal Care",
          "Personal Care",
          "Personal Care",
          "Personal Care",
          "Personal Care",
          "Personal Care",
          "Personal Care",
          "Personal Care",
          "Personal Insurance",
          "Personal Insurance",
          "Personal Insurance",
          "Personal Insurance",
          "Personal Insurance",
          "Personal Insurance",
          "Personal Insurance",
          "Personal Insurance",
          "Personal Insurance",
          "Reading",
          "Reading",
          "Reading",
          "Reading",
          "Reading",
          "Reading",
          "Reading",
          "Reading",
          "Reading",
          "Tobacco Products",
          "Tobacco Products",
          "Tobacco Products",
          "Tobacco Products",
          "Tobacco Products",
          "Tobacco Products",
          "Tobacco Products",
          "Tobacco Products",
          "Tobacco Products",
          "Transportation",
          "Transportation",
          "Transportation",
          "Transportation",
          "Transportation",
          "Transportation",
          "Transportation",
          "Transportation",
          "Transportation",
          "2000",
          "2001",
          "2002",
          "2003",
          "2004",
          "2005",
          "2006",
          "2007",
          "2008"
         ],
         "marker": {
          "coloraxis": "coloraxis",
          "colors": [
           372,
           349,
           376,
           391,
           459,
           426,
           497,
           457,
           444,
           1856,
           1743,
           1749,
           1640,
           1816,
           1886,
           1874,
           1881,
           1801,
           1192,
           1258,
           1277,
           1370,
           1408,
           1663,
           1869,
           1821,
           1737,
           632,
           648,
           752,
           783,
           905,
           940,
           888,
           945,
           1046,
           1863,
           1953,
           2079,
           2060,
           2218,
           2388,
           2376,
           2698,
           2835,
           5158,
           5321,
           5375,
           5340,
           5781,
           5931,
           6111,
           6113,
           6443,
           2066,
           2182,
           2350,
           2416,
           2574,
           2664,
           2766,
           2853,
           2976,
           12319,
           13011,
           13283,
           13432,
           13918,
           15167,
           16366,
           16920,
           17109,
           776,
           750,
           792,
           606,
           690,
           808,
           846,
           808,
           840,
           564,
           485,
           526,
           527,
           581,
           541,
           585,
           588,
           616,
           3365,
           3737,
           3899,
           4055,
           4823,
           5204,
           5270,
           5336,
           5605,
           146,
           141,
           139,
           127,
           130,
           126,
           117,
           118,
           116,
           319,
           308,
           320,
           290,
           288,
           319,
           327,
           323,
           317,
           7417,
           7633,
           7759,
           7781,
           7801,
           8344,
           8508,
           8758,
           8604,
           6804.671336575108,
           7198.490371719932,
           7301.603107483528,
           7400.645058552599,
           7605.46059181416,
           8256.704053267826,
           8840.176074380166,
           9136.064390656806,
           9216.260868704074
          ]
         },
         "name": "",
         "parents": [
          "2000",
          "2001",
          "2002",
          "2003",
          "2004",
          "2005",
          "2006",
          "2007",
          "2008",
          "2000",
          "2001",
          "2002",
          "2003",
          "2004",
          "2005",
          "2006",
          "2007",
          "2008",
          "2000",
          "2001",
          "2002",
          "2003",
          "2004",
          "2005",
          "2006",
          "2007",
          "2008",
          "2000",
          "2001",
          "2002",
          "2003",
          "2004",
          "2005",
          "2006",
          "2007",
          "2008",
          "2000",
          "2001",
          "2002",
          "2003",
          "2004",
          "2005",
          "2006",
          "2007",
          "2008",
          "2000",
          "2001",
          "2002",
          "2003",
          "2004",
          "2005",
          "2006",
          "2007",
          "2008",
          "2000",
          "2001",
          "2002",
          "2003",
          "2004",
          "2005",
          "2006",
          "2007",
          "2008",
          "2000",
          "2001",
          "2002",
          "2003",
          "2004",
          "2005",
          "2006",
          "2007",
          "2008",
          "2000",
          "2001",
          "2002",
          "2003",
          "2004",
          "2005",
          "2006",
          "2007",
          "2008",
          "2000",
          "2001",
          "2002",
          "2003",
          "2004",
          "2005",
          "2006",
          "2007",
          "2008",
          "2000",
          "2001",
          "2002",
          "2003",
          "2004",
          "2005",
          "2006",
          "2007",
          "2008",
          "2000",
          "2001",
          "2002",
          "2003",
          "2004",
          "2005",
          "2006",
          "2007",
          "2008",
          "2000",
          "2001",
          "2002",
          "2003",
          "2004",
          "2005",
          "2006",
          "2007",
          "2008",
          "2000",
          "2001",
          "2002",
          "2003",
          "2004",
          "2005",
          "2006",
          "2007",
          "2008",
          "",
          "",
          "",
          "",
          "",
          "",
          "",
          "",
          ""
         ],
         "type": "treemap",
         "values": [
          372,
          349,
          376,
          391,
          459,
          426,
          497,
          457,
          444,
          1856,
          1743,
          1749,
          1640,
          1816,
          1886,
          1874,
          1881,
          1801,
          1192,
          1258,
          1277,
          1370,
          1408,
          1663,
          1869,
          1821,
          1737,
          632,
          648,
          752,
          783,
          905,
          940,
          888,
          945,
          1046,
          1863,
          1953,
          2079,
          2060,
          2218,
          2388,
          2376,
          2698,
          2835,
          5158,
          5321,
          5375,
          5340,
          5781,
          5931,
          6111,
          6113,
          6443,
          2066,
          2182,
          2350,
          2416,
          2574,
          2664,
          2766,
          2853,
          2976,
          12319,
          13011,
          13283,
          13432,
          13918,
          15167,
          16366,
          16920,
          17109,
          776,
          750,
          792,
          606,
          690,
          808,
          846,
          808,
          840,
          564,
          485,
          526,
          527,
          581,
          541,
          585,
          588,
          616,
          3365,
          3737,
          3899,
          4055,
          4823,
          5204,
          5270,
          5336,
          5605,
          146,
          141,
          139,
          127,
          130,
          126,
          117,
          118,
          116,
          319,
          308,
          320,
          290,
          288,
          319,
          327,
          323,
          317,
          7417,
          7633,
          7759,
          7781,
          7801,
          8344,
          8508,
          8758,
          8604,
          38045,
          39519,
          40676,
          40818,
          43392,
          46407,
          48400,
          49619,
          50489
         ]
        }
       ],
       "layout": {
        "coloraxis": {
         "colorbar": {
          "title": {
           "text": "expenditure"
          }
         },
         "colorscale": [
          [
           0,
           "rgb(255,255,217)"
          ],
          [
           0.125,
           "rgb(237,248,177)"
          ],
          [
           0.25,
           "rgb(199,233,180)"
          ],
          [
           0.375,
           "rgb(127,205,187)"
          ],
          [
           0.5,
           "rgb(65,182,196)"
          ],
          [
           0.625,
           "rgb(29,145,192)"
          ],
          [
           0.75,
           "rgb(34,94,168)"
          ],
          [
           0.875,
           "rgb(37,52,148)"
          ],
          [
           1,
           "rgb(8,29,88)"
          ]
         ]
        },
        "legend": {
         "tracegroupgap": 0
        },
        "template": {
         "data": {
          "bar": [
           {
            "error_x": {
             "color": "#2a3f5f"
            },
            "error_y": {
             "color": "#2a3f5f"
            },
            "marker": {
             "line": {
              "color": "#E5ECF6",
              "width": 0.5
             }
            },
            "type": "bar"
           }
          ],
          "barpolar": [
           {
            "marker": {
             "line": {
              "color": "#E5ECF6",
              "width": 0.5
             }
            },
            "type": "barpolar"
           }
          ],
          "carpet": [
           {
            "aaxis": {
             "endlinecolor": "#2a3f5f",
             "gridcolor": "white",
             "linecolor": "white",
             "minorgridcolor": "white",
             "startlinecolor": "#2a3f5f"
            },
            "baxis": {
             "endlinecolor": "#2a3f5f",
             "gridcolor": "white",
             "linecolor": "white",
             "minorgridcolor": "white",
             "startlinecolor": "#2a3f5f"
            },
            "type": "carpet"
           }
          ],
          "choropleth": [
           {
            "colorbar": {
             "outlinewidth": 0,
             "ticks": ""
            },
            "type": "choropleth"
           }
          ],
          "contour": [
           {
            "colorbar": {
             "outlinewidth": 0,
             "ticks": ""
            },
            "colorscale": [
             [
              0,
              "#0d0887"
             ],
             [
              0.1111111111111111,
              "#46039f"
             ],
             [
              0.2222222222222222,
              "#7201a8"
             ],
             [
              0.3333333333333333,
              "#9c179e"
             ],
             [
              0.4444444444444444,
              "#bd3786"
             ],
             [
              0.5555555555555556,
              "#d8576b"
             ],
             [
              0.6666666666666666,
              "#ed7953"
             ],
             [
              0.7777777777777778,
              "#fb9f3a"
             ],
             [
              0.8888888888888888,
              "#fdca26"
             ],
             [
              1,
              "#f0f921"
             ]
            ],
            "type": "contour"
           }
          ],
          "contourcarpet": [
           {
            "colorbar": {
             "outlinewidth": 0,
             "ticks": ""
            },
            "type": "contourcarpet"
           }
          ],
          "heatmap": [
           {
            "colorbar": {
             "outlinewidth": 0,
             "ticks": ""
            },
            "colorscale": [
             [
              0,
              "#0d0887"
             ],
             [
              0.1111111111111111,
              "#46039f"
             ],
             [
              0.2222222222222222,
              "#7201a8"
             ],
             [
              0.3333333333333333,
              "#9c179e"
             ],
             [
              0.4444444444444444,
              "#bd3786"
             ],
             [
              0.5555555555555556,
              "#d8576b"
             ],
             [
              0.6666666666666666,
              "#ed7953"
             ],
             [
              0.7777777777777778,
              "#fb9f3a"
             ],
             [
              0.8888888888888888,
              "#fdca26"
             ],
             [
              1,
              "#f0f921"
             ]
            ],
            "type": "heatmap"
           }
          ],
          "heatmapgl": [
           {
            "colorbar": {
             "outlinewidth": 0,
             "ticks": ""
            },
            "colorscale": [
             [
              0,
              "#0d0887"
             ],
             [
              0.1111111111111111,
              "#46039f"
             ],
             [
              0.2222222222222222,
              "#7201a8"
             ],
             [
              0.3333333333333333,
              "#9c179e"
             ],
             [
              0.4444444444444444,
              "#bd3786"
             ],
             [
              0.5555555555555556,
              "#d8576b"
             ],
             [
              0.6666666666666666,
              "#ed7953"
             ],
             [
              0.7777777777777778,
              "#fb9f3a"
             ],
             [
              0.8888888888888888,
              "#fdca26"
             ],
             [
              1,
              "#f0f921"
             ]
            ],
            "type": "heatmapgl"
           }
          ],
          "histogram": [
           {
            "marker": {
             "colorbar": {
              "outlinewidth": 0,
              "ticks": ""
             }
            },
            "type": "histogram"
           }
          ],
          "histogram2d": [
           {
            "colorbar": {
             "outlinewidth": 0,
             "ticks": ""
            },
            "colorscale": [
             [
              0,
              "#0d0887"
             ],
             [
              0.1111111111111111,
              "#46039f"
             ],
             [
              0.2222222222222222,
              "#7201a8"
             ],
             [
              0.3333333333333333,
              "#9c179e"
             ],
             [
              0.4444444444444444,
              "#bd3786"
             ],
             [
              0.5555555555555556,
              "#d8576b"
             ],
             [
              0.6666666666666666,
              "#ed7953"
             ],
             [
              0.7777777777777778,
              "#fb9f3a"
             ],
             [
              0.8888888888888888,
              "#fdca26"
             ],
             [
              1,
              "#f0f921"
             ]
            ],
            "type": "histogram2d"
           }
          ],
          "histogram2dcontour": [
           {
            "colorbar": {
             "outlinewidth": 0,
             "ticks": ""
            },
            "colorscale": [
             [
              0,
              "#0d0887"
             ],
             [
              0.1111111111111111,
              "#46039f"
             ],
             [
              0.2222222222222222,
              "#7201a8"
             ],
             [
              0.3333333333333333,
              "#9c179e"
             ],
             [
              0.4444444444444444,
              "#bd3786"
             ],
             [
              0.5555555555555556,
              "#d8576b"
             ],
             [
              0.6666666666666666,
              "#ed7953"
             ],
             [
              0.7777777777777778,
              "#fb9f3a"
             ],
             [
              0.8888888888888888,
              "#fdca26"
             ],
             [
              1,
              "#f0f921"
             ]
            ],
            "type": "histogram2dcontour"
           }
          ],
          "mesh3d": [
           {
            "colorbar": {
             "outlinewidth": 0,
             "ticks": ""
            },
            "type": "mesh3d"
           }
          ],
          "parcoords": [
           {
            "line": {
             "colorbar": {
              "outlinewidth": 0,
              "ticks": ""
             }
            },
            "type": "parcoords"
           }
          ],
          "pie": [
           {
            "automargin": true,
            "type": "pie"
           }
          ],
          "scatter": [
           {
            "marker": {
             "colorbar": {
              "outlinewidth": 0,
              "ticks": ""
             }
            },
            "type": "scatter"
           }
          ],
          "scatter3d": [
           {
            "line": {
             "colorbar": {
              "outlinewidth": 0,
              "ticks": ""
             }
            },
            "marker": {
             "colorbar": {
              "outlinewidth": 0,
              "ticks": ""
             }
            },
            "type": "scatter3d"
           }
          ],
          "scattercarpet": [
           {
            "marker": {
             "colorbar": {
              "outlinewidth": 0,
              "ticks": ""
             }
            },
            "type": "scattercarpet"
           }
          ],
          "scattergeo": [
           {
            "marker": {
             "colorbar": {
              "outlinewidth": 0,
              "ticks": ""
             }
            },
            "type": "scattergeo"
           }
          ],
          "scattergl": [
           {
            "marker": {
             "colorbar": {
              "outlinewidth": 0,
              "ticks": ""
             }
            },
            "type": "scattergl"
           }
          ],
          "scattermapbox": [
           {
            "marker": {
             "colorbar": {
              "outlinewidth": 0,
              "ticks": ""
             }
            },
            "type": "scattermapbox"
           }
          ],
          "scatterpolar": [
           {
            "marker": {
             "colorbar": {
              "outlinewidth": 0,
              "ticks": ""
             }
            },
            "type": "scatterpolar"
           }
          ],
          "scatterpolargl": [
           {
            "marker": {
             "colorbar": {
              "outlinewidth": 0,
              "ticks": ""
             }
            },
            "type": "scatterpolargl"
           }
          ],
          "scatterternary": [
           {
            "marker": {
             "colorbar": {
              "outlinewidth": 0,
              "ticks": ""
             }
            },
            "type": "scatterternary"
           }
          ],
          "surface": [
           {
            "colorbar": {
             "outlinewidth": 0,
             "ticks": ""
            },
            "colorscale": [
             [
              0,
              "#0d0887"
             ],
             [
              0.1111111111111111,
              "#46039f"
             ],
             [
              0.2222222222222222,
              "#7201a8"
             ],
             [
              0.3333333333333333,
              "#9c179e"
             ],
             [
              0.4444444444444444,
              "#bd3786"
             ],
             [
              0.5555555555555556,
              "#d8576b"
             ],
             [
              0.6666666666666666,
              "#ed7953"
             ],
             [
              0.7777777777777778,
              "#fb9f3a"
             ],
             [
              0.8888888888888888,
              "#fdca26"
             ],
             [
              1,
              "#f0f921"
             ]
            ],
            "type": "surface"
           }
          ],
          "table": [
           {
            "cells": {
             "fill": {
              "color": "#EBF0F8"
             },
             "line": {
              "color": "white"
             }
            },
            "header": {
             "fill": {
              "color": "#C8D4E3"
             },
             "line": {
              "color": "white"
             }
            },
            "type": "table"
           }
          ]
         },
         "layout": {
          "annotationdefaults": {
           "arrowcolor": "#2a3f5f",
           "arrowhead": 0,
           "arrowwidth": 1
          },
          "autotypenumbers": "strict",
          "coloraxis": {
           "colorbar": {
            "outlinewidth": 0,
            "ticks": ""
           }
          },
          "colorscale": {
           "diverging": [
            [
             0,
             "#8e0152"
            ],
            [
             0.1,
             "#c51b7d"
            ],
            [
             0.2,
             "#de77ae"
            ],
            [
             0.3,
             "#f1b6da"
            ],
            [
             0.4,
             "#fde0ef"
            ],
            [
             0.5,
             "#f7f7f7"
            ],
            [
             0.6,
             "#e6f5d0"
            ],
            [
             0.7,
             "#b8e186"
            ],
            [
             0.8,
             "#7fbc41"
            ],
            [
             0.9,
             "#4d9221"
            ],
            [
             1,
             "#276419"
            ]
           ],
           "sequential": [
            [
             0,
             "#0d0887"
            ],
            [
             0.1111111111111111,
             "#46039f"
            ],
            [
             0.2222222222222222,
             "#7201a8"
            ],
            [
             0.3333333333333333,
             "#9c179e"
            ],
            [
             0.4444444444444444,
             "#bd3786"
            ],
            [
             0.5555555555555556,
             "#d8576b"
            ],
            [
             0.6666666666666666,
             "#ed7953"
            ],
            [
             0.7777777777777778,
             "#fb9f3a"
            ],
            [
             0.8888888888888888,
             "#fdca26"
            ],
            [
             1,
             "#f0f921"
            ]
           ],
           "sequentialminus": [
            [
             0,
             "#0d0887"
            ],
            [
             0.1111111111111111,
             "#46039f"
            ],
            [
             0.2222222222222222,
             "#7201a8"
            ],
            [
             0.3333333333333333,
             "#9c179e"
            ],
            [
             0.4444444444444444,
             "#bd3786"
            ],
            [
             0.5555555555555556,
             "#d8576b"
            ],
            [
             0.6666666666666666,
             "#ed7953"
            ],
            [
             0.7777777777777778,
             "#fb9f3a"
            ],
            [
             0.8888888888888888,
             "#fdca26"
            ],
            [
             1,
             "#f0f921"
            ]
           ]
          },
          "colorway": [
           "#636efa",
           "#EF553B",
           "#00cc96",
           "#ab63fa",
           "#FFA15A",
           "#19d3f3",
           "#FF6692",
           "#B6E880",
           "#FF97FF",
           "#FECB52"
          ],
          "font": {
           "color": "#2a3f5f"
          },
          "geo": {
           "bgcolor": "white",
           "lakecolor": "white",
           "landcolor": "#E5ECF6",
           "showlakes": true,
           "showland": true,
           "subunitcolor": "white"
          },
          "hoverlabel": {
           "align": "left"
          },
          "hovermode": "closest",
          "mapbox": {
           "style": "light"
          },
          "paper_bgcolor": "white",
          "plot_bgcolor": "#E5ECF6",
          "polar": {
           "angularaxis": {
            "gridcolor": "white",
            "linecolor": "white",
            "ticks": ""
           },
           "bgcolor": "#E5ECF6",
           "radialaxis": {
            "gridcolor": "white",
            "linecolor": "white",
            "ticks": ""
           }
          },
          "scene": {
           "xaxis": {
            "backgroundcolor": "#E5ECF6",
            "gridcolor": "white",
            "gridwidth": 2,
            "linecolor": "white",
            "showbackground": true,
            "ticks": "",
            "zerolinecolor": "white"
           },
           "yaxis": {
            "backgroundcolor": "#E5ECF6",
            "gridcolor": "white",
            "gridwidth": 2,
            "linecolor": "white",
            "showbackground": true,
            "ticks": "",
            "zerolinecolor": "white"
           },
           "zaxis": {
            "backgroundcolor": "#E5ECF6",
            "gridcolor": "white",
            "gridwidth": 2,
            "linecolor": "white",
            "showbackground": true,
            "ticks": "",
            "zerolinecolor": "white"
           }
          },
          "shapedefaults": {
           "line": {
            "color": "#2a3f5f"
           }
          },
          "ternary": {
           "aaxis": {
            "gridcolor": "white",
            "linecolor": "white",
            "ticks": ""
           },
           "baxis": {
            "gridcolor": "white",
            "linecolor": "white",
            "ticks": ""
           },
           "bgcolor": "#E5ECF6",
           "caxis": {
            "gridcolor": "white",
            "linecolor": "white",
            "ticks": ""
           }
          },
          "title": {
           "x": 0.05
          },
          "xaxis": {
           "automargin": true,
           "gridcolor": "white",
           "linecolor": "white",
           "ticks": "",
           "title": {
            "standoff": 15
           },
           "zerolinecolor": "white",
           "zerolinewidth": 2
          },
          "yaxis": {
           "automargin": true,
           "gridcolor": "white",
           "linecolor": "white",
           "ticks": "",
           "title": {
            "standoff": 15
           },
           "zerolinecolor": "white",
           "zerolinewidth": 2
          }
         }
        },
        "title": {
         "text": "Annual Household Expenditures 2000-2008"
        }
       }
      },
      "text/html": [
       "<div>                            <div id=\"bb7c0041-2bcc-4124-a27d-da952af016ee\" class=\"plotly-graph-div\" style=\"height:525px; width:100%;\"></div>            <script type=\"text/javascript\">                require([\"plotly\"], function(Plotly) {                    window.PLOTLYENV=window.PLOTLYENV || {};                                    if (document.getElementById(\"bb7c0041-2bcc-4124-a27d-da952af016ee\")) {                    Plotly.newPlot(                        \"bb7c0041-2bcc-4124-a27d-da952af016ee\",                        [{\"branchvalues\": \"total\", \"customdata\": [[372.0], [349.0], [376.0], [391.0], [459.0], [426.0], [497.0], [457.0], [444.0], [1856.0], [1743.0], [1749.0], [1640.0], [1816.0], [1886.0], [1874.0], [1881.0], [1801.0], [1192.0], [1258.0], [1277.0], [1370.0], [1408.0], [1663.0], [1869.0], [1821.0], [1737.0], [632.0], [648.0], [752.0], [783.0], [905.0], [940.0], [888.0], [945.0], [1046.0], [1863.0], [1953.0], [2079.0], [2060.0], [2218.0], [2388.0], [2376.0], [2698.0], [2835.0], [5158.0], [5321.0], [5375.0], [5340.0], [5781.0], [5931.0], [6111.0], [6113.0], [6443.0], [2066.0], [2182.0], [2350.0], [2416.0], [2574.0], [2664.0], [2766.0], [2853.0], [2976.0], [12319.0], [13011.0], [13283.0], [13432.0], [13918.0], [15167.0], [16366.0], [16920.0], [17109.0], [776.0], [750.0], [792.0], [606.0], [690.0], [808.0], [846.0], [808.0], [840.0], [564.0], [485.0], [526.0], [527.0], [581.0], [541.0], [585.0], [588.0], [616.0], [3365.0], [3737.0], [3899.0], [4055.0], [4823.0], [5204.0], [5270.0], [5336.0], [5605.0], [146.0], [141.0], [139.0], [127.0], [130.0], [126.0], [117.0], [118.0], [116.0], [319.0], [308.0], [320.0], [290.0], [288.0], [319.0], [327.0], [323.0], [317.0], [7417.0], [7633.0], [7759.0], [7781.0], [7801.0], [8344.0], [8508.0], [8758.0], [8604.0], [6804.671336575108], [7198.490371719932], [7301.603107483528], [7400.645058552599], [7605.46059181416], [8256.704053267826], [8840.176074380166], [9136.064390656806], [9216.260868704074]], \"domain\": {\"x\": [0.0, 1.0], \"y\": [0.0, 1.0]}, \"hovertemplate\": \"labels=%{label}<br>expenditure_sum=%{value}<br>parent=%{parent}<br>id=%{id}<br>expenditure=%{color}<extra></extra>\", \"ids\": [\"2000/Alcoholic Beverages\", \"2001/Alcoholic Beverages\", \"2002/Alcoholic Beverages\", \"2003/Alcoholic Beverages\", \"2004/Alcoholic Beverages\", \"2005/Alcoholic Beverages\", \"2006/Alcoholic Beverages\", \"2007/Alcoholic Beverages\", \"2008/Alcoholic Beverages\", \"2000/Apparel\", \"2001/Apparel\", \"2002/Apparel\", \"2003/Apparel\", \"2004/Apparel\", \"2005/Apparel\", \"2006/Apparel\", \"2007/Apparel\", \"2008/Apparel\", \"2000/Cash Contributions\", \"2001/Cash Contributions\", \"2002/Cash Contributions\", \"2003/Cash Contributions\", \"2004/Cash Contributions\", \"2005/Cash Contributions\", \"2006/Cash Contributions\", \"2007/Cash Contributions\", \"2008/Cash Contributions\", \"2000/Education\", \"2001/Education\", \"2002/Education\", \"2003/Education\", \"2004/Education\", \"2005/Education\", \"2006/Education\", \"2007/Education\", \"2008/Education\", \"2000/Entertainment\", \"2001/Entertainment\", \"2002/Entertainment\", \"2003/Entertainment\", \"2004/Entertainment\", \"2005/Entertainment\", \"2006/Entertainment\", \"2007/Entertainment\", \"2008/Entertainment\", \"2000/Food\", \"2001/Food\", \"2002/Food\", \"2003/Food\", \"2004/Food\", \"2005/Food\", \"2006/Food\", \"2007/Food\", \"2008/Food\", \"2000/Healthcare\", \"2001/Healthcare\", \"2002/Healthcare\", \"2003/Healthcare\", \"2004/Healthcare\", \"2005/Healthcare\", \"2006/Healthcare\", \"2007/Healthcare\", \"2008/Healthcare\", \"2000/Housing\", \"2001/Housing\", \"2002/Housing\", \"2003/Housing\", \"2004/Housing\", \"2005/Housing\", \"2006/Housing\", \"2007/Housing\", \"2008/Housing\", \"2000/Miscellaneous\", \"2001/Miscellaneous\", \"2002/Miscellaneous\", \"2003/Miscellaneous\", \"2004/Miscellaneous\", \"2005/Miscellaneous\", \"2006/Miscellaneous\", \"2007/Miscellaneous\", \"2008/Miscellaneous\", \"2000/Personal Care\", \"2001/Personal Care\", \"2002/Personal Care\", \"2003/Personal Care\", \"2004/Personal Care\", \"2005/Personal Care\", \"2006/Personal Care\", \"2007/Personal Care\", \"2008/Personal Care\", \"2000/Personal Insurance\", \"2001/Personal Insurance\", \"2002/Personal Insurance\", \"2003/Personal Insurance\", \"2004/Personal Insurance\", \"2005/Personal Insurance\", \"2006/Personal Insurance\", \"2007/Personal Insurance\", \"2008/Personal Insurance\", \"2000/Reading\", \"2001/Reading\", \"2002/Reading\", \"2003/Reading\", \"2004/Reading\", \"2005/Reading\", \"2006/Reading\", \"2007/Reading\", \"2008/Reading\", \"2000/Tobacco Products\", \"2001/Tobacco Products\", \"2002/Tobacco Products\", \"2003/Tobacco Products\", \"2004/Tobacco Products\", \"2005/Tobacco Products\", \"2006/Tobacco Products\", \"2007/Tobacco Products\", \"2008/Tobacco Products\", \"2000/Transportation\", \"2001/Transportation\", \"2002/Transportation\", \"2003/Transportation\", \"2004/Transportation\", \"2005/Transportation\", \"2006/Transportation\", \"2007/Transportation\", \"2008/Transportation\", \"2000\", \"2001\", \"2002\", \"2003\", \"2004\", \"2005\", \"2006\", \"2007\", \"2008\"], \"labels\": [\"Alcoholic Beverages\", \"Alcoholic Beverages\", \"Alcoholic Beverages\", \"Alcoholic Beverages\", \"Alcoholic Beverages\", \"Alcoholic Beverages\", \"Alcoholic Beverages\", \"Alcoholic Beverages\", \"Alcoholic Beverages\", \"Apparel\", \"Apparel\", \"Apparel\", \"Apparel\", \"Apparel\", \"Apparel\", \"Apparel\", \"Apparel\", \"Apparel\", \"Cash Contributions\", \"Cash Contributions\", \"Cash Contributions\", \"Cash Contributions\", \"Cash Contributions\", \"Cash Contributions\", \"Cash Contributions\", \"Cash Contributions\", \"Cash Contributions\", \"Education\", \"Education\", \"Education\", \"Education\", \"Education\", \"Education\", \"Education\", \"Education\", \"Education\", \"Entertainment\", \"Entertainment\", \"Entertainment\", \"Entertainment\", \"Entertainment\", \"Entertainment\", \"Entertainment\", \"Entertainment\", \"Entertainment\", \"Food\", \"Food\", \"Food\", \"Food\", \"Food\", \"Food\", \"Food\", \"Food\", \"Food\", \"Healthcare\", \"Healthcare\", \"Healthcare\", \"Healthcare\", \"Healthcare\", \"Healthcare\", \"Healthcare\", \"Healthcare\", \"Healthcare\", \"Housing\", \"Housing\", \"Housing\", \"Housing\", \"Housing\", \"Housing\", \"Housing\", \"Housing\", \"Housing\", \"Miscellaneous\", \"Miscellaneous\", \"Miscellaneous\", \"Miscellaneous\", \"Miscellaneous\", \"Miscellaneous\", \"Miscellaneous\", \"Miscellaneous\", \"Miscellaneous\", \"Personal Care\", \"Personal Care\", \"Personal Care\", \"Personal Care\", \"Personal Care\", \"Personal Care\", \"Personal Care\", \"Personal Care\", \"Personal Care\", \"Personal Insurance\", \"Personal Insurance\", \"Personal Insurance\", \"Personal Insurance\", \"Personal Insurance\", \"Personal Insurance\", \"Personal Insurance\", \"Personal Insurance\", \"Personal Insurance\", \"Reading\", \"Reading\", \"Reading\", \"Reading\", \"Reading\", \"Reading\", \"Reading\", \"Reading\", \"Reading\", \"Tobacco Products\", \"Tobacco Products\", \"Tobacco Products\", \"Tobacco Products\", \"Tobacco Products\", \"Tobacco Products\", \"Tobacco Products\", \"Tobacco Products\", \"Tobacco Products\", \"Transportation\", \"Transportation\", \"Transportation\", \"Transportation\", \"Transportation\", \"Transportation\", \"Transportation\", \"Transportation\", \"Transportation\", \"2000\", \"2001\", \"2002\", \"2003\", \"2004\", \"2005\", \"2006\", \"2007\", \"2008\"], \"marker\": {\"coloraxis\": \"coloraxis\", \"colors\": [372.0, 349.0, 376.0, 391.0, 459.0, 426.0, 497.0, 457.0, 444.0, 1856.0, 1743.0, 1749.0, 1640.0, 1816.0, 1886.0, 1874.0, 1881.0, 1801.0, 1192.0, 1258.0, 1277.0, 1370.0, 1408.0, 1663.0, 1869.0, 1821.0, 1737.0, 632.0, 648.0, 752.0, 783.0, 905.0, 940.0, 888.0, 945.0, 1046.0, 1863.0, 1953.0, 2079.0, 2060.0, 2218.0, 2388.0, 2376.0, 2698.0, 2835.0, 5158.0, 5321.0, 5375.0, 5340.0, 5781.0, 5931.0, 6111.0, 6113.0, 6443.0, 2066.0, 2182.0, 2350.0, 2416.0, 2574.0, 2664.0, 2766.0, 2853.0, 2976.0, 12319.0, 13011.0, 13283.0, 13432.0, 13918.0, 15167.0, 16366.0, 16920.0, 17109.0, 776.0, 750.0, 792.0, 606.0, 690.0, 808.0, 846.0, 808.0, 840.0, 564.0, 485.0, 526.0, 527.0, 581.0, 541.0, 585.0, 588.0, 616.0, 3365.0, 3737.0, 3899.0, 4055.0, 4823.0, 5204.0, 5270.0, 5336.0, 5605.0, 146.0, 141.0, 139.0, 127.0, 130.0, 126.0, 117.0, 118.0, 116.0, 319.0, 308.0, 320.0, 290.0, 288.0, 319.0, 327.0, 323.0, 317.0, 7417.0, 7633.0, 7759.0, 7781.0, 7801.0, 8344.0, 8508.0, 8758.0, 8604.0, 6804.671336575108, 7198.490371719932, 7301.603107483528, 7400.645058552599, 7605.46059181416, 8256.704053267826, 8840.176074380166, 9136.064390656806, 9216.260868704074]}, \"name\": \"\", \"parents\": [\"2000\", \"2001\", \"2002\", \"2003\", \"2004\", \"2005\", \"2006\", \"2007\", \"2008\", \"2000\", \"2001\", \"2002\", \"2003\", \"2004\", \"2005\", \"2006\", \"2007\", \"2008\", \"2000\", \"2001\", \"2002\", \"2003\", \"2004\", \"2005\", \"2006\", \"2007\", \"2008\", \"2000\", \"2001\", \"2002\", \"2003\", \"2004\", \"2005\", \"2006\", \"2007\", \"2008\", \"2000\", \"2001\", \"2002\", \"2003\", \"2004\", \"2005\", \"2006\", \"2007\", \"2008\", \"2000\", \"2001\", \"2002\", \"2003\", \"2004\", \"2005\", \"2006\", \"2007\", \"2008\", \"2000\", \"2001\", \"2002\", \"2003\", \"2004\", \"2005\", \"2006\", \"2007\", \"2008\", \"2000\", \"2001\", \"2002\", \"2003\", \"2004\", \"2005\", \"2006\", \"2007\", \"2008\", \"2000\", \"2001\", \"2002\", \"2003\", \"2004\", \"2005\", \"2006\", \"2007\", \"2008\", \"2000\", \"2001\", \"2002\", \"2003\", \"2004\", \"2005\", \"2006\", \"2007\", \"2008\", \"2000\", \"2001\", \"2002\", \"2003\", \"2004\", \"2005\", \"2006\", \"2007\", \"2008\", \"2000\", \"2001\", \"2002\", \"2003\", \"2004\", \"2005\", \"2006\", \"2007\", \"2008\", \"2000\", \"2001\", \"2002\", \"2003\", \"2004\", \"2005\", \"2006\", \"2007\", \"2008\", \"2000\", \"2001\", \"2002\", \"2003\", \"2004\", \"2005\", \"2006\", \"2007\", \"2008\", \"\", \"\", \"\", \"\", \"\", \"\", \"\", \"\", \"\"], \"type\": \"treemap\", \"values\": [372, 349, 376, 391, 459, 426, 497, 457, 444, 1856, 1743, 1749, 1640, 1816, 1886, 1874, 1881, 1801, 1192, 1258, 1277, 1370, 1408, 1663, 1869, 1821, 1737, 632, 648, 752, 783, 905, 940, 888, 945, 1046, 1863, 1953, 2079, 2060, 2218, 2388, 2376, 2698, 2835, 5158, 5321, 5375, 5340, 5781, 5931, 6111, 6113, 6443, 2066, 2182, 2350, 2416, 2574, 2664, 2766, 2853, 2976, 12319, 13011, 13283, 13432, 13918, 15167, 16366, 16920, 17109, 776, 750, 792, 606, 690, 808, 846, 808, 840, 564, 485, 526, 527, 581, 541, 585, 588, 616, 3365, 3737, 3899, 4055, 4823, 5204, 5270, 5336, 5605, 146, 141, 139, 127, 130, 126, 117, 118, 116, 319, 308, 320, 290, 288, 319, 327, 323, 317, 7417, 7633, 7759, 7781, 7801, 8344, 8508, 8758, 8604, 38045, 39519, 40676, 40818, 43392, 46407, 48400, 49619, 50489]}],                        {\"coloraxis\": {\"colorbar\": {\"title\": {\"text\": \"expenditure\"}}, \"colorscale\": [[0.0, \"rgb(255,255,217)\"], [0.125, \"rgb(237,248,177)\"], [0.25, \"rgb(199,233,180)\"], [0.375, \"rgb(127,205,187)\"], [0.5, \"rgb(65,182,196)\"], [0.625, \"rgb(29,145,192)\"], [0.75, \"rgb(34,94,168)\"], [0.875, \"rgb(37,52,148)\"], [1.0, \"rgb(8,29,88)\"]]}, \"legend\": {\"tracegroupgap\": 0}, \"template\": {\"data\": {\"bar\": [{\"error_x\": {\"color\": \"#2a3f5f\"}, \"error_y\": {\"color\": \"#2a3f5f\"}, \"marker\": {\"line\": {\"color\": \"#E5ECF6\", \"width\": 0.5}}, \"type\": \"bar\"}], \"barpolar\": [{\"marker\": {\"line\": {\"color\": \"#E5ECF6\", \"width\": 0.5}}, \"type\": \"barpolar\"}], \"carpet\": [{\"aaxis\": {\"endlinecolor\": \"#2a3f5f\", \"gridcolor\": \"white\", \"linecolor\": \"white\", \"minorgridcolor\": \"white\", \"startlinecolor\": \"#2a3f5f\"}, \"baxis\": {\"endlinecolor\": \"#2a3f5f\", \"gridcolor\": \"white\", \"linecolor\": \"white\", \"minorgridcolor\": \"white\", \"startlinecolor\": \"#2a3f5f\"}, \"type\": \"carpet\"}], \"choropleth\": [{\"colorbar\": {\"outlinewidth\": 0, \"ticks\": \"\"}, \"type\": \"choropleth\"}], \"contour\": [{\"colorbar\": {\"outlinewidth\": 0, \"ticks\": \"\"}, \"colorscale\": [[0.0, \"#0d0887\"], [0.1111111111111111, \"#46039f\"], [0.2222222222222222, \"#7201a8\"], [0.3333333333333333, \"#9c179e\"], [0.4444444444444444, \"#bd3786\"], [0.5555555555555556, \"#d8576b\"], [0.6666666666666666, \"#ed7953\"], [0.7777777777777778, \"#fb9f3a\"], [0.8888888888888888, \"#fdca26\"], [1.0, \"#f0f921\"]], \"type\": \"contour\"}], \"contourcarpet\": [{\"colorbar\": {\"outlinewidth\": 0, \"ticks\": \"\"}, \"type\": \"contourcarpet\"}], \"heatmap\": [{\"colorbar\": {\"outlinewidth\": 0, \"ticks\": \"\"}, \"colorscale\": [[0.0, \"#0d0887\"], [0.1111111111111111, \"#46039f\"], [0.2222222222222222, \"#7201a8\"], [0.3333333333333333, \"#9c179e\"], [0.4444444444444444, \"#bd3786\"], [0.5555555555555556, \"#d8576b\"], [0.6666666666666666, \"#ed7953\"], [0.7777777777777778, \"#fb9f3a\"], [0.8888888888888888, \"#fdca26\"], [1.0, \"#f0f921\"]], \"type\": \"heatmap\"}], \"heatmapgl\": [{\"colorbar\": {\"outlinewidth\": 0, \"ticks\": \"\"}, \"colorscale\": [[0.0, \"#0d0887\"], [0.1111111111111111, \"#46039f\"], [0.2222222222222222, \"#7201a8\"], [0.3333333333333333, \"#9c179e\"], [0.4444444444444444, \"#bd3786\"], [0.5555555555555556, \"#d8576b\"], [0.6666666666666666, \"#ed7953\"], [0.7777777777777778, \"#fb9f3a\"], [0.8888888888888888, \"#fdca26\"], [1.0, \"#f0f921\"]], \"type\": \"heatmapgl\"}], \"histogram\": [{\"marker\": {\"colorbar\": {\"outlinewidth\": 0, \"ticks\": \"\"}}, \"type\": \"histogram\"}], \"histogram2d\": [{\"colorbar\": {\"outlinewidth\": 0, \"ticks\": \"\"}, \"colorscale\": [[0.0, \"#0d0887\"], [0.1111111111111111, \"#46039f\"], [0.2222222222222222, \"#7201a8\"], [0.3333333333333333, \"#9c179e\"], [0.4444444444444444, \"#bd3786\"], [0.5555555555555556, \"#d8576b\"], [0.6666666666666666, \"#ed7953\"], [0.7777777777777778, \"#fb9f3a\"], [0.8888888888888888, \"#fdca26\"], [1.0, \"#f0f921\"]], \"type\": \"histogram2d\"}], \"histogram2dcontour\": [{\"colorbar\": {\"outlinewidth\": 0, \"ticks\": \"\"}, \"colorscale\": [[0.0, \"#0d0887\"], [0.1111111111111111, \"#46039f\"], [0.2222222222222222, \"#7201a8\"], [0.3333333333333333, \"#9c179e\"], [0.4444444444444444, \"#bd3786\"], [0.5555555555555556, \"#d8576b\"], [0.6666666666666666, \"#ed7953\"], [0.7777777777777778, \"#fb9f3a\"], [0.8888888888888888, \"#fdca26\"], [1.0, \"#f0f921\"]], \"type\": \"histogram2dcontour\"}], \"mesh3d\": [{\"colorbar\": {\"outlinewidth\": 0, \"ticks\": \"\"}, \"type\": \"mesh3d\"}], \"parcoords\": [{\"line\": {\"colorbar\": {\"outlinewidth\": 0, \"ticks\": \"\"}}, \"type\": \"parcoords\"}], \"pie\": [{\"automargin\": true, \"type\": \"pie\"}], \"scatter\": [{\"marker\": {\"colorbar\": {\"outlinewidth\": 0, \"ticks\": \"\"}}, \"type\": \"scatter\"}], \"scatter3d\": [{\"line\": {\"colorbar\": {\"outlinewidth\": 0, \"ticks\": \"\"}}, \"marker\": {\"colorbar\": {\"outlinewidth\": 0, \"ticks\": \"\"}}, \"type\": \"scatter3d\"}], \"scattercarpet\": [{\"marker\": {\"colorbar\": {\"outlinewidth\": 0, \"ticks\": \"\"}}, \"type\": \"scattercarpet\"}], \"scattergeo\": [{\"marker\": {\"colorbar\": {\"outlinewidth\": 0, \"ticks\": \"\"}}, \"type\": \"scattergeo\"}], \"scattergl\": [{\"marker\": {\"colorbar\": {\"outlinewidth\": 0, \"ticks\": \"\"}}, \"type\": \"scattergl\"}], \"scattermapbox\": [{\"marker\": {\"colorbar\": {\"outlinewidth\": 0, \"ticks\": \"\"}}, \"type\": \"scattermapbox\"}], \"scatterpolar\": [{\"marker\": {\"colorbar\": {\"outlinewidth\": 0, \"ticks\": \"\"}}, \"type\": \"scatterpolar\"}], \"scatterpolargl\": [{\"marker\": {\"colorbar\": {\"outlinewidth\": 0, \"ticks\": \"\"}}, \"type\": \"scatterpolargl\"}], \"scatterternary\": [{\"marker\": {\"colorbar\": {\"outlinewidth\": 0, \"ticks\": \"\"}}, \"type\": \"scatterternary\"}], \"surface\": [{\"colorbar\": {\"outlinewidth\": 0, \"ticks\": \"\"}, \"colorscale\": [[0.0, \"#0d0887\"], [0.1111111111111111, \"#46039f\"], [0.2222222222222222, \"#7201a8\"], [0.3333333333333333, \"#9c179e\"], [0.4444444444444444, \"#bd3786\"], [0.5555555555555556, \"#d8576b\"], [0.6666666666666666, \"#ed7953\"], [0.7777777777777778, \"#fb9f3a\"], [0.8888888888888888, \"#fdca26\"], [1.0, \"#f0f921\"]], \"type\": \"surface\"}], \"table\": [{\"cells\": {\"fill\": {\"color\": \"#EBF0F8\"}, \"line\": {\"color\": \"white\"}}, \"header\": {\"fill\": {\"color\": \"#C8D4E3\"}, \"line\": {\"color\": \"white\"}}, \"type\": \"table\"}]}, \"layout\": {\"annotationdefaults\": {\"arrowcolor\": \"#2a3f5f\", \"arrowhead\": 0, \"arrowwidth\": 1}, \"autotypenumbers\": \"strict\", \"coloraxis\": {\"colorbar\": {\"outlinewidth\": 0, \"ticks\": \"\"}}, \"colorscale\": {\"diverging\": [[0, \"#8e0152\"], [0.1, \"#c51b7d\"], [0.2, \"#de77ae\"], [0.3, \"#f1b6da\"], [0.4, \"#fde0ef\"], [0.5, \"#f7f7f7\"], [0.6, \"#e6f5d0\"], [0.7, \"#b8e186\"], [0.8, \"#7fbc41\"], [0.9, \"#4d9221\"], [1, \"#276419\"]], \"sequential\": [[0.0, \"#0d0887\"], [0.1111111111111111, \"#46039f\"], [0.2222222222222222, \"#7201a8\"], [0.3333333333333333, \"#9c179e\"], [0.4444444444444444, \"#bd3786\"], [0.5555555555555556, \"#d8576b\"], [0.6666666666666666, \"#ed7953\"], [0.7777777777777778, \"#fb9f3a\"], [0.8888888888888888, \"#fdca26\"], [1.0, \"#f0f921\"]], \"sequentialminus\": [[0.0, \"#0d0887\"], [0.1111111111111111, \"#46039f\"], [0.2222222222222222, \"#7201a8\"], [0.3333333333333333, \"#9c179e\"], [0.4444444444444444, \"#bd3786\"], [0.5555555555555556, \"#d8576b\"], [0.6666666666666666, \"#ed7953\"], [0.7777777777777778, \"#fb9f3a\"], [0.8888888888888888, \"#fdca26\"], [1.0, \"#f0f921\"]]}, \"colorway\": [\"#636efa\", \"#EF553B\", \"#00cc96\", \"#ab63fa\", \"#FFA15A\", \"#19d3f3\", \"#FF6692\", \"#B6E880\", \"#FF97FF\", \"#FECB52\"], \"font\": {\"color\": \"#2a3f5f\"}, \"geo\": {\"bgcolor\": \"white\", \"lakecolor\": \"white\", \"landcolor\": \"#E5ECF6\", \"showlakes\": true, \"showland\": true, \"subunitcolor\": \"white\"}, \"hoverlabel\": {\"align\": \"left\"}, \"hovermode\": \"closest\", \"mapbox\": {\"style\": \"light\"}, \"paper_bgcolor\": \"white\", \"plot_bgcolor\": \"#E5ECF6\", \"polar\": {\"angularaxis\": {\"gridcolor\": \"white\", \"linecolor\": \"white\", \"ticks\": \"\"}, \"bgcolor\": \"#E5ECF6\", \"radialaxis\": {\"gridcolor\": \"white\", \"linecolor\": \"white\", \"ticks\": \"\"}}, \"scene\": {\"xaxis\": {\"backgroundcolor\": \"#E5ECF6\", \"gridcolor\": \"white\", \"gridwidth\": 2, \"linecolor\": \"white\", \"showbackground\": true, \"ticks\": \"\", \"zerolinecolor\": \"white\"}, \"yaxis\": {\"backgroundcolor\": \"#E5ECF6\", \"gridcolor\": \"white\", \"gridwidth\": 2, \"linecolor\": \"white\", \"showbackground\": true, \"ticks\": \"\", \"zerolinecolor\": \"white\"}, \"zaxis\": {\"backgroundcolor\": \"#E5ECF6\", \"gridcolor\": \"white\", \"gridwidth\": 2, \"linecolor\": \"white\", \"showbackground\": true, \"ticks\": \"\", \"zerolinecolor\": \"white\"}}, \"shapedefaults\": {\"line\": {\"color\": \"#2a3f5f\"}}, \"ternary\": {\"aaxis\": {\"gridcolor\": \"white\", \"linecolor\": \"white\", \"ticks\": \"\"}, \"baxis\": {\"gridcolor\": \"white\", \"linecolor\": \"white\", \"ticks\": \"\"}, \"bgcolor\": \"#E5ECF6\", \"caxis\": {\"gridcolor\": \"white\", \"linecolor\": \"white\", \"ticks\": \"\"}}, \"title\": {\"x\": 0.05}, \"xaxis\": {\"automargin\": true, \"gridcolor\": \"white\", \"linecolor\": \"white\", \"ticks\": \"\", \"title\": {\"standoff\": 15}, \"zerolinecolor\": \"white\", \"zerolinewidth\": 2}, \"yaxis\": {\"automargin\": true, \"gridcolor\": \"white\", \"linecolor\": \"white\", \"ticks\": \"\", \"title\": {\"standoff\": 15}, \"zerolinecolor\": \"white\", \"zerolinewidth\": 2}}}, \"title\": {\"text\": \"Annual Household Expenditures 2000-2008\"}},                        {\"responsive\": true}                    ).then(function(){\n",
       "                            \n",
       "var gd = document.getElementById('bb7c0041-2bcc-4124-a27d-da952af016ee');\n",
       "var x = new MutationObserver(function (mutations, observer) {{\n",
       "        var display = window.getComputedStyle(gd).display;\n",
       "        if (!display || display === 'none') {{\n",
       "            console.log([gd, 'removed!']);\n",
       "            Plotly.purge(gd);\n",
       "            observer.disconnect();\n",
       "        }}\n",
       "}});\n",
       "\n",
       "// Listen for the removal of the full notebook cells\n",
       "var notebookContainer = gd.closest('#notebook-container');\n",
       "if (notebookContainer) {{\n",
       "    x.observe(notebookContainer, {childList: true});\n",
       "}}\n",
       "\n",
       "// Listen for the clearing of the current output cell\n",
       "var outputEl = gd.closest('.output');\n",
       "if (outputEl) {{\n",
       "    x.observe(outputEl, {childList: true});\n",
       "}}\n",
       "\n",
       "                        })                };                });            </script>        </div>"
      ]
     },
     "metadata": {},
     "output_type": "display_data"
    }
   ],
   "source": [
    "# Use plotly to check out the 8 year dataset as a treemap\n",
    "import plotly.express as px\n",
    "\n",
    "fig = px.treemap(eightYr, \n",
    "                 path=['year', 'category'], \n",
    "                 values='expenditure',\n",
    "                 color='expenditure',\n",
    "                 color_continuous_scale=px.colors.sequential.YlGnBu,\n",
    "                 title = ('Annual Household Expenditures 2000-2008')\n",
    "                )\n",
    "fig.show()"
   ]
  },
  {
   "cell_type": "code",
   "execution_count": 54,
   "metadata": {},
   "outputs": [],
   "source": [
    "# Subset data to create an area chart to look at the cost of transportation over time\n",
    "trans = df[df.category == \"Transportation\"]"
   ]
  },
  {
   "cell_type": "code",
   "execution_count": 102,
   "metadata": {},
   "outputs": [
    {
     "data": {
      "image/png": "[encoded data removed]",
      "text/plain": [
       "<Figure size 432x288 with 1 Axes>"
      ]
     },
     "metadata": {
      "needs_background": "light"
     },
     "output_type": "display_data"
    }
   ],
   "source": [
    "# Area plot\n",
    "fig, ax = plt.subplots()\n",
    "\n",
    "# Remove the right border\n",
    "right = ax.spines[\"right\"]\n",
    "right.set_visible(False)\n",
    "\n",
    "# Remove the top border\n",
    "top = ax.spines[\"top\"]\n",
    "top.set_visible(False)\n",
    "\n",
    "# Remove left border\n",
    "left = ax.spines[\"left\"]\n",
    "left.set_visible(False)\n",
    "\n",
    "plt.fill_between(trans.year, trans.expenditure)\n",
    "plt.title(\"Annual Transportation Expenditure (1984-2008)\", size=14, loc='left')\n",
    "plt.xlabel(\"Year\", size=14)\n",
    "plt.ylim(0, 9000)\n",
    "plt.grid(axis='y')\n",
    "plt.yticks([0, 2000, 4000, 6000, 8000], [0, \"$2,000\", \"$4,000\", \"$6,000\", \"USD $8,000\"])\n",
    "plt.xticks([1984, 1988, 1992, 1996, 2000, 2004, 2008])\n",
    "plt.show()"
   ]
  },
  {
   "cell_type": "code",
   "execution_count": 89,
   "metadata": {},
   "outputs": [
    {
     "data": {
      "text/html": [
       "<div>\n",
       "<style scoped>\n",
       "    .dataframe tbody tr th:only-of-type {\n",
       "        vertical-align: middle;\n",
       "    }\n",
       "\n",
       "    .dataframe tbody tr th {\n",
       "        vertical-align: top;\n",
       "    }\n",
       "\n",
       "    .dataframe thead th {\n",
       "        text-align: right;\n",
       "    }\n",
       "</style>\n",
       "<table border=\"1\" class=\"dataframe\">\n",
       "  <thead>\n",
       "    <tr style=\"text-align: right;\">\n",
       "      <th>category</th>\n",
       "      <th>Alcoholic Beverages</th>\n",
       "      <th>Apparel</th>\n",
       "      <th>Cash Contributions</th>\n",
       "      <th>Education</th>\n",
       "      <th>Entertainment</th>\n",
       "      <th>Food</th>\n",
       "      <th>Healthcare</th>\n",
       "      <th>Housing</th>\n",
       "      <th>Miscellaneous</th>\n",
       "      <th>Personal Care</th>\n",
       "      <th>Personal Insurance</th>\n",
       "      <th>Reading</th>\n",
       "      <th>Tobacco Products</th>\n",
       "      <th>Transportation</th>\n",
       "    </tr>\n",
       "    <tr>\n",
       "      <th>year</th>\n",
       "      <th></th>\n",
       "      <th></th>\n",
       "      <th></th>\n",
       "      <th></th>\n",
       "      <th></th>\n",
       "      <th></th>\n",
       "      <th></th>\n",
       "      <th></th>\n",
       "      <th></th>\n",
       "      <th></th>\n",
       "      <th></th>\n",
       "      <th></th>\n",
       "      <th></th>\n",
       "      <th></th>\n",
       "    </tr>\n",
       "  </thead>\n",
       "  <tbody>\n",
       "    <tr>\n",
       "      <th>1984</th>\n",
       "      <td>275</td>\n",
       "      <td>1319</td>\n",
       "      <td>706</td>\n",
       "      <td>303</td>\n",
       "      <td>1055</td>\n",
       "      <td>3290</td>\n",
       "      <td>1049</td>\n",
       "      <td>6674</td>\n",
       "      <td>451</td>\n",
       "      <td>289</td>\n",
       "      <td>1897</td>\n",
       "      <td>132</td>\n",
       "      <td>228</td>\n",
       "      <td>4304</td>\n",
       "    </tr>\n",
       "    <tr>\n",
       "      <th>1985</th>\n",
       "      <td>306</td>\n",
       "      <td>1420</td>\n",
       "      <td>805</td>\n",
       "      <td>321</td>\n",
       "      <td>1170</td>\n",
       "      <td>3477</td>\n",
       "      <td>1108</td>\n",
       "      <td>7087</td>\n",
       "      <td>529</td>\n",
       "      <td>303</td>\n",
       "      <td>2016</td>\n",
       "      <td>141</td>\n",
       "      <td>219</td>\n",
       "      <td>4587</td>\n",
       "    </tr>\n",
       "    <tr>\n",
       "      <th>1986</th>\n",
       "      <td>271</td>\n",
       "      <td>1346</td>\n",
       "      <td>746</td>\n",
       "      <td>314</td>\n",
       "      <td>1149</td>\n",
       "      <td>3448</td>\n",
       "      <td>1135</td>\n",
       "      <td>7292</td>\n",
       "      <td>522</td>\n",
       "      <td>303</td>\n",
       "      <td>2127</td>\n",
       "      <td>140</td>\n",
       "      <td>230</td>\n",
       "      <td>4842</td>\n",
       "    </tr>\n",
       "    <tr>\n",
       "      <th>1987</th>\n",
       "      <td>289</td>\n",
       "      <td>1446</td>\n",
       "      <td>741</td>\n",
       "      <td>337</td>\n",
       "      <td>1193</td>\n",
       "      <td>3664</td>\n",
       "      <td>1135</td>\n",
       "      <td>7569</td>\n",
       "      <td>562</td>\n",
       "      <td>330</td>\n",
       "      <td>2175</td>\n",
       "      <td>142</td>\n",
       "      <td>232</td>\n",
       "      <td>4600</td>\n",
       "    </tr>\n",
       "    <tr>\n",
       "      <th>1988</th>\n",
       "      <td>269</td>\n",
       "      <td>1489</td>\n",
       "      <td>693</td>\n",
       "      <td>342</td>\n",
       "      <td>1329</td>\n",
       "      <td>3748</td>\n",
       "      <td>1298</td>\n",
       "      <td>8079</td>\n",
       "      <td>578</td>\n",
       "      <td>334</td>\n",
       "      <td>2249</td>\n",
       "      <td>150</td>\n",
       "      <td>242</td>\n",
       "      <td>5093</td>\n",
       "    </tr>\n",
       "    <tr>\n",
       "      <th>1989</th>\n",
       "      <td>284</td>\n",
       "      <td>1582</td>\n",
       "      <td>900</td>\n",
       "      <td>367</td>\n",
       "      <td>1424</td>\n",
       "      <td>4152</td>\n",
       "      <td>1407</td>\n",
       "      <td>8609</td>\n",
       "      <td>643</td>\n",
       "      <td>366</td>\n",
       "      <td>2472</td>\n",
       "      <td>157</td>\n",
       "      <td>261</td>\n",
       "      <td>5187</td>\n",
       "    </tr>\n",
       "    <tr>\n",
       "      <th>1990</th>\n",
       "      <td>293</td>\n",
       "      <td>1618</td>\n",
       "      <td>816</td>\n",
       "      <td>406</td>\n",
       "      <td>1422</td>\n",
       "      <td>4296</td>\n",
       "      <td>1480</td>\n",
       "      <td>8703</td>\n",
       "      <td>842</td>\n",
       "      <td>364</td>\n",
       "      <td>2592</td>\n",
       "      <td>153</td>\n",
       "      <td>274</td>\n",
       "      <td>5120</td>\n",
       "    </tr>\n",
       "    <tr>\n",
       "      <th>1991</th>\n",
       "      <td>297</td>\n",
       "      <td>1735</td>\n",
       "      <td>950</td>\n",
       "      <td>447</td>\n",
       "      <td>1472</td>\n",
       "      <td>4271</td>\n",
       "      <td>1554</td>\n",
       "      <td>9252</td>\n",
       "      <td>860</td>\n",
       "      <td>399</td>\n",
       "      <td>2787</td>\n",
       "      <td>163</td>\n",
       "      <td>276</td>\n",
       "      <td>5151</td>\n",
       "    </tr>\n",
       "    <tr>\n",
       "      <th>1992</th>\n",
       "      <td>301</td>\n",
       "      <td>1710</td>\n",
       "      <td>958</td>\n",
       "      <td>426</td>\n",
       "      <td>1500</td>\n",
       "      <td>4723</td>\n",
       "      <td>1634</td>\n",
       "      <td>9477</td>\n",
       "      <td>765</td>\n",
       "      <td>387</td>\n",
       "      <td>2750</td>\n",
       "      <td>162</td>\n",
       "      <td>275</td>\n",
       "      <td>5228</td>\n",
       "    </tr>\n",
       "    <tr>\n",
       "      <th>1993</th>\n",
       "      <td>268</td>\n",
       "      <td>1676</td>\n",
       "      <td>961</td>\n",
       "      <td>455</td>\n",
       "      <td>1626</td>\n",
       "      <td>4399</td>\n",
       "      <td>1776</td>\n",
       "      <td>9636</td>\n",
       "      <td>715</td>\n",
       "      <td>385</td>\n",
       "      <td>2908</td>\n",
       "      <td>166</td>\n",
       "      <td>268</td>\n",
       "      <td>5453</td>\n",
       "    </tr>\n",
       "    <tr>\n",
       "      <th>1994</th>\n",
       "      <td>278</td>\n",
       "      <td>1644</td>\n",
       "      <td>960</td>\n",
       "      <td>460</td>\n",
       "      <td>1567</td>\n",
       "      <td>4411</td>\n",
       "      <td>1755</td>\n",
       "      <td>10106</td>\n",
       "      <td>749</td>\n",
       "      <td>397</td>\n",
       "      <td>2938</td>\n",
       "      <td>165</td>\n",
       "      <td>259</td>\n",
       "      <td>6044</td>\n",
       "    </tr>\n",
       "    <tr>\n",
       "      <th>1995</th>\n",
       "      <td>277</td>\n",
       "      <td>1704</td>\n",
       "      <td>925</td>\n",
       "      <td>471</td>\n",
       "      <td>1612</td>\n",
       "      <td>4505</td>\n",
       "      <td>1732</td>\n",
       "      <td>10458</td>\n",
       "      <td>766</td>\n",
       "      <td>403</td>\n",
       "      <td>2964</td>\n",
       "      <td>162</td>\n",
       "      <td>269</td>\n",
       "      <td>6014</td>\n",
       "    </tr>\n",
       "    <tr>\n",
       "      <th>1996</th>\n",
       "      <td>309</td>\n",
       "      <td>1752</td>\n",
       "      <td>940</td>\n",
       "      <td>524</td>\n",
       "      <td>1834</td>\n",
       "      <td>4698</td>\n",
       "      <td>1770</td>\n",
       "      <td>10747</td>\n",
       "      <td>855</td>\n",
       "      <td>513</td>\n",
       "      <td>3060</td>\n",
       "      <td>159</td>\n",
       "      <td>255</td>\n",
       "      <td>6382</td>\n",
       "    </tr>\n",
       "    <tr>\n",
       "      <th>1997</th>\n",
       "      <td>309</td>\n",
       "      <td>1729</td>\n",
       "      <td>1001</td>\n",
       "      <td>571</td>\n",
       "      <td>1813</td>\n",
       "      <td>4801</td>\n",
       "      <td>1841</td>\n",
       "      <td>11272</td>\n",
       "      <td>847</td>\n",
       "      <td>528</td>\n",
       "      <td>3223</td>\n",
       "      <td>164</td>\n",
       "      <td>264</td>\n",
       "      <td>6457</td>\n",
       "    </tr>\n",
       "    <tr>\n",
       "      <th>1998</th>\n",
       "      <td>309</td>\n",
       "      <td>1674</td>\n",
       "      <td>1109</td>\n",
       "      <td>580</td>\n",
       "      <td>1746</td>\n",
       "      <td>4810</td>\n",
       "      <td>1903</td>\n",
       "      <td>11713</td>\n",
       "      <td>860</td>\n",
       "      <td>401</td>\n",
       "      <td>3381</td>\n",
       "      <td>161</td>\n",
       "      <td>273</td>\n",
       "      <td>6616</td>\n",
       "    </tr>\n",
       "    <tr>\n",
       "      <th>1999</th>\n",
       "      <td>318</td>\n",
       "      <td>1743</td>\n",
       "      <td>1181</td>\n",
       "      <td>635</td>\n",
       "      <td>1891</td>\n",
       "      <td>5031</td>\n",
       "      <td>1959</td>\n",
       "      <td>12057</td>\n",
       "      <td>867</td>\n",
       "      <td>408</td>\n",
       "      <td>3436</td>\n",
       "      <td>159</td>\n",
       "      <td>300</td>\n",
       "      <td>7011</td>\n",
       "    </tr>\n",
       "    <tr>\n",
       "      <th>2000</th>\n",
       "      <td>372</td>\n",
       "      <td>1856</td>\n",
       "      <td>1192</td>\n",
       "      <td>632</td>\n",
       "      <td>1863</td>\n",
       "      <td>5158</td>\n",
       "      <td>2066</td>\n",
       "      <td>12319</td>\n",
       "      <td>776</td>\n",
       "      <td>564</td>\n",
       "      <td>3365</td>\n",
       "      <td>146</td>\n",
       "      <td>319</td>\n",
       "      <td>7417</td>\n",
       "    </tr>\n",
       "    <tr>\n",
       "      <th>2001</th>\n",
       "      <td>349</td>\n",
       "      <td>1743</td>\n",
       "      <td>1258</td>\n",
       "      <td>648</td>\n",
       "      <td>1953</td>\n",
       "      <td>5321</td>\n",
       "      <td>2182</td>\n",
       "      <td>13011</td>\n",
       "      <td>750</td>\n",
       "      <td>485</td>\n",
       "      <td>3737</td>\n",
       "      <td>141</td>\n",
       "      <td>308</td>\n",
       "      <td>7633</td>\n",
       "    </tr>\n",
       "    <tr>\n",
       "      <th>2002</th>\n",
       "      <td>376</td>\n",
       "      <td>1749</td>\n",
       "      <td>1277</td>\n",
       "      <td>752</td>\n",
       "      <td>2079</td>\n",
       "      <td>5375</td>\n",
       "      <td>2350</td>\n",
       "      <td>13283</td>\n",
       "      <td>792</td>\n",
       "      <td>526</td>\n",
       "      <td>3899</td>\n",
       "      <td>139</td>\n",
       "      <td>320</td>\n",
       "      <td>7759</td>\n",
       "    </tr>\n",
       "    <tr>\n",
       "      <th>2003</th>\n",
       "      <td>391</td>\n",
       "      <td>1640</td>\n",
       "      <td>1370</td>\n",
       "      <td>783</td>\n",
       "      <td>2060</td>\n",
       "      <td>5340</td>\n",
       "      <td>2416</td>\n",
       "      <td>13432</td>\n",
       "      <td>606</td>\n",
       "      <td>527</td>\n",
       "      <td>4055</td>\n",
       "      <td>127</td>\n",
       "      <td>290</td>\n",
       "      <td>7781</td>\n",
       "    </tr>\n",
       "    <tr>\n",
       "      <th>2004</th>\n",
       "      <td>459</td>\n",
       "      <td>1816</td>\n",
       "      <td>1408</td>\n",
       "      <td>905</td>\n",
       "      <td>2218</td>\n",
       "      <td>5781</td>\n",
       "      <td>2574</td>\n",
       "      <td>13918</td>\n",
       "      <td>690</td>\n",
       "      <td>581</td>\n",
       "      <td>4823</td>\n",
       "      <td>130</td>\n",
       "      <td>288</td>\n",
       "      <td>7801</td>\n",
       "    </tr>\n",
       "    <tr>\n",
       "      <th>2005</th>\n",
       "      <td>426</td>\n",
       "      <td>1886</td>\n",
       "      <td>1663</td>\n",
       "      <td>940</td>\n",
       "      <td>2388</td>\n",
       "      <td>5931</td>\n",
       "      <td>2664</td>\n",
       "      <td>15167</td>\n",
       "      <td>808</td>\n",
       "      <td>541</td>\n",
       "      <td>5204</td>\n",
       "      <td>126</td>\n",
       "      <td>319</td>\n",
       "      <td>8344</td>\n",
       "    </tr>\n",
       "    <tr>\n",
       "      <th>2006</th>\n",
       "      <td>497</td>\n",
       "      <td>1874</td>\n",
       "      <td>1869</td>\n",
       "      <td>888</td>\n",
       "      <td>2376</td>\n",
       "      <td>6111</td>\n",
       "      <td>2766</td>\n",
       "      <td>16366</td>\n",
       "      <td>846</td>\n",
       "      <td>585</td>\n",
       "      <td>5270</td>\n",
       "      <td>117</td>\n",
       "      <td>327</td>\n",
       "      <td>8508</td>\n",
       "    </tr>\n",
       "    <tr>\n",
       "      <th>2007</th>\n",
       "      <td>457</td>\n",
       "      <td>1881</td>\n",
       "      <td>1821</td>\n",
       "      <td>945</td>\n",
       "      <td>2698</td>\n",
       "      <td>6113</td>\n",
       "      <td>2853</td>\n",
       "      <td>16920</td>\n",
       "      <td>808</td>\n",
       "      <td>588</td>\n",
       "      <td>5336</td>\n",
       "      <td>118</td>\n",
       "      <td>323</td>\n",
       "      <td>8758</td>\n",
       "    </tr>\n",
       "    <tr>\n",
       "      <th>2008</th>\n",
       "      <td>444</td>\n",
       "      <td>1801</td>\n",
       "      <td>1737</td>\n",
       "      <td>1046</td>\n",
       "      <td>2835</td>\n",
       "      <td>6443</td>\n",
       "      <td>2976</td>\n",
       "      <td>17109</td>\n",
       "      <td>840</td>\n",
       "      <td>616</td>\n",
       "      <td>5605</td>\n",
       "      <td>116</td>\n",
       "      <td>317</td>\n",
       "      <td>8604</td>\n",
       "    </tr>\n",
       "  </tbody>\n",
       "</table>\n",
       "</div>"
      ],
      "text/plain": [
       "category  Alcoholic Beverages  Apparel  Cash Contributions  Education  \\\n",
       "year                                                                    \n",
       "1984                      275     1319                 706        303   \n",
       "1985                      306     1420                 805        321   \n",
       "1986                      271     1346                 746        314   \n",
       "1987                      289     1446                 741        337   \n",
       "1988                      269     1489                 693        342   \n",
       "1989                      284     1582                 900        367   \n",
       "1990                      293     1618                 816        406   \n",
       "1991                      297     1735                 950        447   \n",
       "1992                      301     1710                 958        426   \n",
       "1993                      268     1676                 961        455   \n",
       "1994                      278     1644                 960        460   \n",
       "1995                      277     1704                 925        471   \n",
       "1996                      309     1752                 940        524   \n",
       "1997                      309     1729                1001        571   \n",
       "1998                      309     1674                1109        580   \n",
       "1999                      318     1743                1181        635   \n",
       "2000                      372     1856                1192        632   \n",
       "2001                      349     1743                1258        648   \n",
       "2002                      376     1749                1277        752   \n",
       "2003                      391     1640                1370        783   \n",
       "2004                      459     1816                1408        905   \n",
       "2005                      426     1886                1663        940   \n",
       "2006                      497     1874                1869        888   \n",
       "2007                      457     1881                1821        945   \n",
       "2008                      444     1801                1737       1046   \n",
       "\n",
       "category  Entertainment  Food  Healthcare  Housing  Miscellaneous  \\\n",
       "year                                                                \n",
       "1984               1055  3290        1049     6674            451   \n",
       "1985               1170  3477        1108     7087            529   \n",
       "1986               1149  3448        1135     7292            522   \n",
       "1987               1193  3664        1135     7569            562   \n",
       "1988               1329  3748        1298     8079            578   \n",
       "1989               1424  4152        1407     8609            643   \n",
       "1990               1422  4296        1480     8703            842   \n",
       "1991               1472  4271        1554     9252            860   \n",
       "1992               1500  4723        1634     9477            765   \n",
       "1993               1626  4399        1776     9636            715   \n",
       "1994               1567  4411        1755    10106            749   \n",
       "1995               1612  4505        1732    10458            766   \n",
       "1996               1834  4698        1770    10747            855   \n",
       "1997               1813  4801        1841    11272            847   \n",
       "1998               1746  4810        1903    11713            860   \n",
       "1999               1891  5031        1959    12057            867   \n",
       "2000               1863  5158        2066    12319            776   \n",
       "2001               1953  5321        2182    13011            750   \n",
       "2002               2079  5375        2350    13283            792   \n",
       "2003               2060  5340        2416    13432            606   \n",
       "2004               2218  5781        2574    13918            690   \n",
       "2005               2388  5931        2664    15167            808   \n",
       "2006               2376  6111        2766    16366            846   \n",
       "2007               2698  6113        2853    16920            808   \n",
       "2008               2835  6443        2976    17109            840   \n",
       "\n",
       "category  Personal Care  Personal Insurance  Reading  Tobacco Products  \\\n",
       "year                                                                     \n",
       "1984                289                1897      132               228   \n",
       "1985                303                2016      141               219   \n",
       "1986                303                2127      140               230   \n",
       "1987                330                2175      142               232   \n",
       "1988                334                2249      150               242   \n",
       "1989                366                2472      157               261   \n",
       "1990                364                2592      153               274   \n",
       "1991                399                2787      163               276   \n",
       "1992                387                2750      162               275   \n",
       "1993                385                2908      166               268   \n",
       "1994                397                2938      165               259   \n",
       "1995                403                2964      162               269   \n",
       "1996                513                3060      159               255   \n",
       "1997                528                3223      164               264   \n",
       "1998                401                3381      161               273   \n",
       "1999                408                3436      159               300   \n",
       "2000                564                3365      146               319   \n",
       "2001                485                3737      141               308   \n",
       "2002                526                3899      139               320   \n",
       "2003                527                4055      127               290   \n",
       "2004                581                4823      130               288   \n",
       "2005                541                5204      126               319   \n",
       "2006                585                5270      117               327   \n",
       "2007                588                5336      118               323   \n",
       "2008                616                5605      116               317   \n",
       "\n",
       "category  Transportation  \n",
       "year                      \n",
       "1984                4304  \n",
       "1985                4587  \n",
       "1986                4842  \n",
       "1987                4600  \n",
       "1988                5093  \n",
       "1989                5187  \n",
       "1990                5120  \n",
       "1991                5151  \n",
       "1992                5228  \n",
       "1993                5453  \n",
       "1994                6044  \n",
       "1995                6014  \n",
       "1996                6382  \n",
       "1997                6457  \n",
       "1998                6616  \n",
       "1999                7011  \n",
       "2000                7417  \n",
       "2001                7633  \n",
       "2002                7759  \n",
       "2003                7781  \n",
       "2004                7801  \n",
       "2005                8344  \n",
       "2006                8508  \n",
       "2007                8758  \n",
       "2008                8604  "
      ]
     },
     "execution_count": 89,
     "metadata": {},
     "output_type": "execute_result"
    }
   ],
   "source": [
    "# Pivot df to prepare for construction of stacked area chart\n",
    "wide_df = df.pivot(index='year', columns='category', values='expenditure')\n",
    "wide_df"
   ]
  },
  {
   "cell_type": "code",
   "execution_count": 92,
   "metadata": {},
   "outputs": [],
   "source": [
    "# Reset the index so that year is a column again\n",
    "wide_df.reset_index(level=0, inplace=True)"
   ]
  },
  {
   "cell_type": "code",
   "execution_count": 93,
   "metadata": {},
   "outputs": [
    {
     "data": {
      "text/plain": [
       "['year',\n",
       " 'Alcoholic Beverages',\n",
       " 'Apparel',\n",
       " 'Cash Contributions',\n",
       " 'Education',\n",
       " 'Entertainment',\n",
       " 'Food',\n",
       " 'Healthcare',\n",
       " 'Housing',\n",
       " 'Miscellaneous',\n",
       " 'Personal Care',\n",
       " 'Personal Insurance',\n",
       " 'Reading',\n",
       " 'Tobacco Products',\n",
       " 'Transportation']"
      ]
     },
     "execution_count": 93,
     "metadata": {},
     "output_type": "execute_result"
    }
   ],
   "source": [
    "# Get a list of column names\n",
    "labels = list(wide_df)\n",
    "labels"
   ]
  },
  {
   "cell_type": "code",
   "execution_count": 123,
   "metadata": {},
   "outputs": [
    {
     "data": {
      "image/png": "[encoded data removed]",
      "text/plain": [
       "<Figure size 432x288 with 1 Axes>"
      ]
     },
     "metadata": {
      "needs_background": "light"
     },
     "output_type": "display_data"
    }
   ],
   "source": [
    "# Create stacked area plot with the five highest scoring expenditures\n",
    "import seaborn as sns\n",
    "\n",
    "fig, ax = plt.subplots()\n",
    "\n",
    "# Remove the right border\n",
    "right = ax.spines[\"right\"]\n",
    "right.set_visible(False)\n",
    "\n",
    "# Remove the top border\n",
    "top = ax.spines[\"top\"]\n",
    "top.set_visible(False)\n",
    "\n",
    "# Remove left border\n",
    "left = ax.spines[\"left\"]\n",
    "left.set_visible(False)\n",
    "\n",
    "# Select a seaborn color palette\n",
    "pal = sns.color_palette(\"mako\")\n",
    "\n",
    "plt.stackplot(wide_df.year, wide_df.Housing, wide_df.Transportation, wide_df.Food, wide_df['Personal Insurance'], \n",
    "              wide_df.Healthcare, labels=['Housing', 'Transportation', 'Food', 'Personal Insurance', 'Healthcare'], \n",
    "             colors=pal, alpha=0.8)\n",
    "plt.legend(loc='upper left')\n",
    "plt.yticks([0, 10000, 20000, 30000, 40000], [0,\"$10,000\", \"$20,000\", \"$30,000\", \"USD $40,000\"])\n",
    "plt.xticks([1984, 1988, 1992, 1996, 2000, 2004, 2008])\n",
    "plt.title(\"Top 5 Annual Expenditures (1984-2008)\", size=14)\n",
    "plt.xlabel(\"Year\")\n",
    "plt.grid(axis='y')\n",
    "plt.show()"
   ]
  },
  {
   "cell_type": "code",
   "execution_count": null,
   "metadata": {},
   "outputs": [],
   "source": []
  }
 ],
 "metadata": {
  "kernelspec": {
   "display_name": "Python 3",
   "language": "python",
   "name": "python3"
  },
  "language_info": {
   "codemirror_mode": {
    "name": "ipython",
    "version": 3
   },
   "file_extension": ".py",
   "mimetype": "text/x-python",
   "name": "python",
   "nbconvert_exporter": "python",
   "pygments_lexer": "ipython3",
   "version": "3.8.3"
  }
 },
 "nbformat": 4,
 "nbformat_minor": 4
}
